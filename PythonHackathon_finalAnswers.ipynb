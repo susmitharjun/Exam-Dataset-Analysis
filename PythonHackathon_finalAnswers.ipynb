{
 "cells": [
  {
   "cell_type": "code",
   "execution_count": 2,
   "id": "230b34ec",
   "metadata": {},
   "outputs": [],
   "source": [
    "import numpy as np\n",
    "import pandas as pd\n",
    "import matplotlib.pyplot as plt\n",
    "import seaborn as sns"
   ]
  },
  {
   "cell_type": "code",
   "execution_count": 4,
   "id": "9ed52f22",
   "metadata": {},
   "outputs": [
    {
     "name": "stdout",
     "output_type": "stream",
     "text": [
      "      Time in mins       Exam Time Category\n",
      "0                1      final     Firstpart\n",
      "1                2      final     Firstpart\n",
      "2                3      final     Firstpart\n",
      "3                4      final     Firstpart\n",
      "4                5      final     Firstpart\n",
      "...            ...        ...           ...\n",
      "7369           212  midterm 2     Thirdpart\n",
      "7370           213  midterm 2     Thirdpart\n",
      "7371           214  midterm 2     Thirdpart\n",
      "7372           215  midterm 2     Thirdpart\n",
      "7373           216  midterm 2     Thirdpart\n",
      "\n",
      "[7374 rows x 3 columns]\n"
     ]
    }
   ],
   "source": [
    "#2.Group the rows in the file EDA into 3 parts based on time: First, Second, Third part of each exam\n",
    "\n",
    "df=pd.read_excel(\"Exam Stress Final.xlsx\", sheet_name=\"EDA\")\n",
    "def timepart(time, maxtime):\n",
    "    interval = maxtime / 3\n",
    "    if 0 <= time < interval:\n",
    "        return 'Firstpart'\n",
    "    elif interval <= time < 2 * interval:\n",
    "        return 'Secondpart'\n",
    "    else:\n",
    "        return 'Thirdpart'    \n",
    "maxtimes = df.groupby('Exam')['Time in mins'].max()\n",
    "df['Time Category'] = df.apply(lambda row: timepart(row['Time in mins'], maxtimes[row['Exam']]), axis=1)\n",
    "print(df[['Time in mins', 'Exam', 'Time Category']])"
   ]
  },
  {
   "cell_type": "code",
   "execution_count": 5,
   "id": "519098ee",
   "metadata": {},
   "outputs": [
    {
     "name": "stdout",
     "output_type": "stream",
     "text": [
      "The exam part when the student suffered maximum stress: Secondpart\n"
     ]
    }
   ],
   "source": [
    "#3.Based on the calculation in question 2, which part of the exam did students suffer maximum stress?\n",
    "#You may assume that higher recorded skin conductance co-incides with high levels of stress\n",
    "\n",
    "grouped_data = df.groupby(\"Time Category\")\n",
    "avg_eda = grouped_data[\"EDA\"].mean()\n",
    "max_eda = avg_eda.max()\n",
    "max_stress = avg_eda[avg_eda == max_eda].index[0]\n",
    "print(\"The exam part when the student suffered maximum stress:\",max_stress)"
   ]
  },
  {
   "cell_type": "code",
   "execution_count": null,
   "id": "4f6efb26",
   "metadata": {},
   "outputs": [],
   "source": []
  },
  {
   "cell_type": "code",
   "execution_count": 16,
   "id": "fc7ff0bb",
   "metadata": {},
   "outputs": [
    {
     "data": {
      "text/plain": [
       "EDA       0.2\n",
       "HR      106.5\n",
       "IBI       0.5\n",
       "TEMP     26.5\n",
       "Name: S01, dtype: float64"
      ]
     },
     "execution_count": 16,
     "metadata": {},
     "output_type": "execute_result"
    }
   ],
   "source": [
    "#Q5.Join all tables to produce one file that contains all student 1's readings for IBI, EDA , HR and temp\n",
    "\n",
    "df = pd.read_excel(\"Combined_Exam_Stress_Final.xlsx\")\n",
    "\n",
    "df\n",
    "df_si=pd.pivot_table(df,index='Student_id',values=['EDA', 'HR', 'TEMP','IBI']).round(1)\n",
    "df_si\n",
    "first_row = df_si.iloc[0]\n",
    "first_row"
   ]
  },
  {
   "cell_type": "code",
   "execution_count": 18,
   "id": "99365163",
   "metadata": {},
   "outputs": [
    {
     "name": "stdout",
     "output_type": "stream",
     "text": [
      "  Student_id        DOB First Name  Last Name Gender     Race  Age\n",
      "0        S01 2009-01-01    Barbara    Walters      F    White   14\n",
      "1        S02 2009-02-02       Nora      Jones      F    White   14\n",
      "2        S03 2009-07-12    Gabriel    Willows      F    Asian   14\n",
      "3        S04 2009-09-09       John        Doe      M    Asian   14\n",
      "4        S05 2009-05-06       Jane        Doe      F  African   14\n",
      "5        S06 2008-04-04        Pat     Murray      M  African   15\n",
      "6        S07 2010-08-01      Roger  Frederick      M  African   13\n",
      "7        S08 2009-03-03       John      Wills      M    White   14\n",
      "8        S09 2009-10-23       Paul    Cartney      M    White   14\n",
      "9        S10 2009-11-14     Janice      Smith      F  Spanish   14\n"
     ]
    },
    {
     "data": {
      "text/html": [
       "<div>\n",
       "<style scoped>\n",
       "    .dataframe tbody tr th:only-of-type {\n",
       "        vertical-align: middle;\n",
       "    }\n",
       "\n",
       "    .dataframe tbody tr th {\n",
       "        vertical-align: top;\n",
       "    }\n",
       "\n",
       "    .dataframe thead th {\n",
       "        text-align: right;\n",
       "    }\n",
       "</style>\n",
       "<table border=\"1\" class=\"dataframe\">\n",
       "  <thead>\n",
       "    <tr style=\"text-align: right;\">\n",
       "      <th></th>\n",
       "      <th>Student_id</th>\n",
       "      <th>First Name</th>\n",
       "      <th>Last Name</th>\n",
       "      <th>Gender</th>\n",
       "      <th>Race</th>\n",
       "      <th>Age</th>\n",
       "    </tr>\n",
       "  </thead>\n",
       "  <tbody>\n",
       "    <tr>\n",
       "      <th>0</th>\n",
       "      <td>S01</td>\n",
       "      <td>Barbara</td>\n",
       "      <td>Walters</td>\n",
       "      <td>F</td>\n",
       "      <td>White</td>\n",
       "      <td>14</td>\n",
       "    </tr>\n",
       "    <tr>\n",
       "      <th>1</th>\n",
       "      <td>S02</td>\n",
       "      <td>Nora</td>\n",
       "      <td>Jones</td>\n",
       "      <td>F</td>\n",
       "      <td>White</td>\n",
       "      <td>14</td>\n",
       "    </tr>\n",
       "    <tr>\n",
       "      <th>2</th>\n",
       "      <td>S03</td>\n",
       "      <td>Gabriel</td>\n",
       "      <td>Willows</td>\n",
       "      <td>F</td>\n",
       "      <td>Asian</td>\n",
       "      <td>14</td>\n",
       "    </tr>\n",
       "    <tr>\n",
       "      <th>3</th>\n",
       "      <td>S04</td>\n",
       "      <td>John</td>\n",
       "      <td>Doe</td>\n",
       "      <td>M</td>\n",
       "      <td>Asian</td>\n",
       "      <td>14</td>\n",
       "    </tr>\n",
       "    <tr>\n",
       "      <th>4</th>\n",
       "      <td>S05</td>\n",
       "      <td>Jane</td>\n",
       "      <td>Doe</td>\n",
       "      <td>F</td>\n",
       "      <td>African</td>\n",
       "      <td>14</td>\n",
       "    </tr>\n",
       "    <tr>\n",
       "      <th>5</th>\n",
       "      <td>S06</td>\n",
       "      <td>Pat</td>\n",
       "      <td>Murray</td>\n",
       "      <td>M</td>\n",
       "      <td>African</td>\n",
       "      <td>15</td>\n",
       "    </tr>\n",
       "    <tr>\n",
       "      <th>6</th>\n",
       "      <td>S07</td>\n",
       "      <td>Roger</td>\n",
       "      <td>Frederick</td>\n",
       "      <td>M</td>\n",
       "      <td>African</td>\n",
       "      <td>13</td>\n",
       "    </tr>\n",
       "    <tr>\n",
       "      <th>7</th>\n",
       "      <td>S08</td>\n",
       "      <td>John</td>\n",
       "      <td>Wills</td>\n",
       "      <td>M</td>\n",
       "      <td>White</td>\n",
       "      <td>14</td>\n",
       "    </tr>\n",
       "    <tr>\n",
       "      <th>8</th>\n",
       "      <td>S09</td>\n",
       "      <td>Paul</td>\n",
       "      <td>Cartney</td>\n",
       "      <td>M</td>\n",
       "      <td>White</td>\n",
       "      <td>14</td>\n",
       "    </tr>\n",
       "    <tr>\n",
       "      <th>9</th>\n",
       "      <td>S10</td>\n",
       "      <td>Janice</td>\n",
       "      <td>Smith</td>\n",
       "      <td>F</td>\n",
       "      <td>Spanish</td>\n",
       "      <td>14</td>\n",
       "    </tr>\n",
       "  </tbody>\n",
       "</table>\n",
       "</div>"
      ],
      "text/plain": [
       "  Student_id First Name  Last Name Gender     Race  Age\n",
       "0        S01    Barbara    Walters      F    White   14\n",
       "1        S02       Nora      Jones      F    White   14\n",
       "2        S03    Gabriel    Willows      F    Asian   14\n",
       "3        S04       John        Doe      M    Asian   14\n",
       "4        S05       Jane        Doe      F  African   14\n",
       "5        S06        Pat     Murray      M  African   15\n",
       "6        S07      Roger  Frederick      M  African   13\n",
       "7        S08       John      Wills      M    White   14\n",
       "8        S09       Paul    Cartney      M    White   14\n",
       "9        S10     Janice      Smith      F  Spanish   14"
      ]
     },
     "execution_count": 18,
     "metadata": {},
     "output_type": "execute_result"
    }
   ],
   "source": [
    "#Q6.Calulate the age and Display Age and drop the Date of Birth with  iteratively.  (Replace DOB for other questions when complete)\n",
    "\n",
    "import pandas as pd\n",
    "import datetime as DT\n",
    "df = pd.read_excel(\"Exam Stress Final.xlsx\", sheet_name=\"Demography\")\n",
    "now = DT.datetime.now()\n",
    "df[\"Age\"] = ((now - df[\"DOB\"]).dt.days)//365\n",
    "print(df)\n",
    "df_new= df.copy()\n",
    "df_new\n",
    "df_new.pop('DOB')\n",
    "df_new\n"
   ]
  },
  {
   "cell_type": "code",
   "execution_count": 14,
   "id": "abb8faab",
   "metadata": {},
   "outputs": [
    {
     "name": "stdout",
     "output_type": "stream",
     "text": [
      "[[0 2]\n",
      " [1 3]]\n",
      "[[0 2 4]\n",
      " [1 3 5]]\n"
     ]
    },
    {
     "data": {
      "text/plain": [
       "array([[[ 0,  1],\n",
       "        [ 0,  3],\n",
       "        [ 0,  5]],\n",
       "\n",
       "       [[ 0,  3],\n",
       "        [ 4,  9],\n",
       "        [ 8, 15]]])"
      ]
     },
     "execution_count": 14,
     "metadata": {},
     "output_type": "execute_result"
    }
   ],
   "source": [
    "#Q7.Using numpy functions, transpose and multiply the following arrays\n",
    "#a=np.arange(4).reshape(2,2)\n",
    "#b=np.arange(6).reshape(3,2) \n",
    "\n",
    "a=np.arange(4).reshape(2,2)\n",
    "b=np.arange(6).reshape(3,2) \n",
    "print(a.transpose())\n",
    "print(b.transpose())\n",
    "a=np.arange(4).reshape(2,2)\n",
    "b=np.arange(6).reshape(3,2) \n",
    "#a_new=a.flatten()\n",
    "#a_new\n",
    "#b\n",
    "#mul = b*np.transpose(np.array([a_new,]*1)\n",
    "b*np.expand_dims(a,1)"
   ]
  },
  {
   "cell_type": "code",
   "execution_count": 13,
   "id": "e67f1e90",
   "metadata": {},
   "outputs": [
    {
     "data": {
      "text/plain": [
       "[4, 3, 2, 1]"
      ]
     },
     "execution_count": 13,
     "metadata": {},
     "output_type": "execute_result"
    }
   ],
   "source": [
    "#8.Write a Python program to create an array of 5 integers and display the array items in reverse order\n",
    "import numpy as np\n",
    "arr=np.array([1,2,3,4])\n",
    "arr\n",
    "arr1=list(reversed(arr))\n",
    "arr1"
   ]
  },
  {
   "cell_type": "code",
   "execution_count": 12,
   "id": "2590e7dc",
   "metadata": {},
   "outputs": [
    {
     "name": "stdout",
     "output_type": "stream",
     "text": [
      "156.7\n",
      "77.5\n",
      "69.9\n"
     ]
    }
   ],
   "source": [
    "#Q9.What was the average grade for all students in the final exam vs both midterms\n",
    "import openpyxl\n",
    "import pprint\n",
    "#wb=openpyxl.load_workbook(\"Exam Stress Final.xlsx\")\n",
    "file= pd.read_excel(\"Exam Stress Final.xlsx\",sheet_name='Grades')\n",
    "file\n",
    "#sheet= wb.get_sheet_by_name('Grades')\n",
    "print(file['final'].mean())\n",
    "print(file['Midterm 1'].mean())\n",
    "print(file['Midterm 2'].mean())"
   ]
  },
  {
   "cell_type": "code",
   "execution_count": 11,
   "id": "b04950f1",
   "metadata": {},
   "outputs": [
    {
     "data": {
      "text/plain": [
       "921"
      ]
     },
     "execution_count": 11,
     "metadata": {},
     "output_type": "execute_result"
    }
   ],
   "source": [
    "#Q10.Which students basal body temperature was highest during the second part of the exam?\n",
    "file= pd.read_excel(\"Exam Stress Final.xlsx\",sheet_name='Temp')\n",
    "file\n",
    "file_mid2= file.query('Exam==\"Midterm 2\"')\n",
    "file_mid2\n",
    "file['TEMP'].idxmax()\n",
    "\n",
    "#file.set_index('Student_id',inplace=True)\n",
    "#result=file.loc['921']\n",
    "#result\n"
   ]
  },
  {
   "cell_type": "code",
   "execution_count": 21,
   "id": "5c43ac39",
   "metadata": {},
   "outputs": [
    {
     "data": {
      "text/html": [
       "<div>\n",
       "<style scoped>\n",
       "    .dataframe tbody tr th:only-of-type {\n",
       "        vertical-align: middle;\n",
       "    }\n",
       "\n",
       "    .dataframe tbody tr th {\n",
       "        vertical-align: top;\n",
       "    }\n",
       "\n",
       "    .dataframe thead th {\n",
       "        text-align: right;\n",
       "    }\n",
       "</style>\n",
       "<table border=\"1\" class=\"dataframe\">\n",
       "  <thead>\n",
       "    <tr style=\"text-align: right;\">\n",
       "      <th></th>\n",
       "      <th>Student_id</th>\n",
       "      <th>Midterm 1</th>\n",
       "      <th>Midterm 2</th>\n",
       "      <th>final</th>\n",
       "      <th>DOB</th>\n",
       "      <th>First Name</th>\n",
       "      <th>Last Name</th>\n",
       "      <th>Gender</th>\n",
       "      <th>Race</th>\n",
       "    </tr>\n",
       "  </thead>\n",
       "  <tbody>\n",
       "    <tr>\n",
       "      <th>2</th>\n",
       "      <td>S03</td>\n",
       "      <td>77</td>\n",
       "      <td>90</td>\n",
       "      <td>188</td>\n",
       "      <td>2009-07-12</td>\n",
       "      <td>Gabriel</td>\n",
       "      <td>Willows</td>\n",
       "      <td>F</td>\n",
       "      <td>Asian</td>\n",
       "    </tr>\n",
       "    <tr>\n",
       "      <th>7</th>\n",
       "      <td>S08</td>\n",
       "      <td>92</td>\n",
       "      <td>88</td>\n",
       "      <td>184</td>\n",
       "      <td>2009-03-03</td>\n",
       "      <td>John</td>\n",
       "      <td>Wills</td>\n",
       "      <td>M</td>\n",
       "      <td>White</td>\n",
       "    </tr>\n",
       "    <tr>\n",
       "      <th>0</th>\n",
       "      <td>S01</td>\n",
       "      <td>78</td>\n",
       "      <td>82</td>\n",
       "      <td>182</td>\n",
       "      <td>2009-01-01</td>\n",
       "      <td>Barbara</td>\n",
       "      <td>Walters</td>\n",
       "      <td>F</td>\n",
       "      <td>White</td>\n",
       "    </tr>\n",
       "  </tbody>\n",
       "</table>\n",
       "</div>"
      ],
      "text/plain": [
       "  Student_id  Midterm 1  Midterm 2  final        DOB First Name Last Name  \\\n",
       "2        S03         77         90    188 2009-07-12    Gabriel   Willows   \n",
       "7        S08         92         88    184 2009-03-03       John     Wills   \n",
       "0        S01         78         82    182 2009-01-01    Barbara   Walters   \n",
       "\n",
       "  Gender   Race  \n",
       "2      F  Asian  \n",
       "7      M  White  \n",
       "0      F  White  "
      ]
     },
     "execution_count": 21,
     "metadata": {},
     "output_type": "execute_result"
    }
   ],
   "source": [
    "#Q11.What are the top 3 grades in the final exam? What % of the top 3 grades belonged to males vs females? \n",
    "df = pd.read_excel(\"Exam Stress Final.xlsx\", sheet_name = 'Grades')\n",
    "df \n",
    "df1=pd.read_excel(\"Exam Stress Final.xlsx\", sheet_name = 'Demography')\n",
    "df2= pd.merge(df,df1,on='Student_id')\n",
    "df2\n",
    "df2 = df2.sort_values(by='final', ascending=False)\n",
    "df2.head(3)\n"
   ]
  },
  {
   "cell_type": "code",
   "execution_count": null,
   "id": "5c9d0812",
   "metadata": {},
   "outputs": [],
   "source": []
  },
  {
   "cell_type": "code",
   "execution_count": null,
   "id": "81de5c0c",
   "metadata": {},
   "outputs": [],
   "source": []
  },
  {
   "cell_type": "code",
   "execution_count": null,
   "id": "a53545e3",
   "metadata": {},
   "outputs": [],
   "source": []
  },
  {
   "cell_type": "code",
   "execution_count": null,
   "id": "447ece72",
   "metadata": {},
   "outputs": [],
   "source": []
  },
  {
   "cell_type": "code",
   "execution_count": null,
   "id": "c5eed3fd",
   "metadata": {},
   "outputs": [],
   "source": []
  },
  {
   "cell_type": "code",
   "execution_count": 9,
   "id": "6d1e7a47",
   "metadata": {},
   "outputs": [
    {
     "data": {
      "text/html": [
       "<div>\n",
       "<style scoped>\n",
       "    .dataframe tbody tr th:only-of-type {\n",
       "        vertical-align: middle;\n",
       "    }\n",
       "\n",
       "    .dataframe tbody tr th {\n",
       "        vertical-align: top;\n",
       "    }\n",
       "\n",
       "    .dataframe thead th {\n",
       "        text-align: right;\n",
       "    }\n",
       "</style>\n",
       "<table border=\"1\" class=\"dataframe\">\n",
       "  <thead>\n",
       "    <tr style=\"text-align: right;\">\n",
       "      <th></th>\n",
       "      <th>Student_id</th>\n",
       "      <th>Midterm 1</th>\n",
       "      <th>Midterm 2</th>\n",
       "      <th>final</th>\n",
       "      <th>Addition</th>\n",
       "      <th>% in midterms</th>\n",
       "      <th>% in finals</th>\n",
       "    </tr>\n",
       "  </thead>\n",
       "  <tbody>\n",
       "    <tr>\n",
       "      <th>0</th>\n",
       "      <td>S01</td>\n",
       "      <td>78</td>\n",
       "      <td>82</td>\n",
       "      <td>182</td>\n",
       "      <td>160</td>\n",
       "      <td>80.0</td>\n",
       "      <td>91.0</td>\n",
       "    </tr>\n",
       "    <tr>\n",
       "      <th>1</th>\n",
       "      <td>S02</td>\n",
       "      <td>82</td>\n",
       "      <td>85</td>\n",
       "      <td>180</td>\n",
       "      <td>167</td>\n",
       "      <td>83.5</td>\n",
       "      <td>90.0</td>\n",
       "    </tr>\n",
       "    <tr>\n",
       "      <th>2</th>\n",
       "      <td>S03</td>\n",
       "      <td>77</td>\n",
       "      <td>90</td>\n",
       "      <td>188</td>\n",
       "      <td>167</td>\n",
       "      <td>83.5</td>\n",
       "      <td>94.0</td>\n",
       "    </tr>\n",
       "    <tr>\n",
       "      <th>3</th>\n",
       "      <td>S04</td>\n",
       "      <td>75</td>\n",
       "      <td>77</td>\n",
       "      <td>149</td>\n",
       "      <td>152</td>\n",
       "      <td>76.0</td>\n",
       "      <td>74.5</td>\n",
       "    </tr>\n",
       "    <tr>\n",
       "      <th>4</th>\n",
       "      <td>S05</td>\n",
       "      <td>67</td>\n",
       "      <td>77</td>\n",
       "      <td>157</td>\n",
       "      <td>144</td>\n",
       "      <td>72.0</td>\n",
       "      <td>78.5</td>\n",
       "    </tr>\n",
       "    <tr>\n",
       "      <th>5</th>\n",
       "      <td>S06</td>\n",
       "      <td>71</td>\n",
       "      <td>64</td>\n",
       "      <td>175</td>\n",
       "      <td>135</td>\n",
       "      <td>67.5</td>\n",
       "      <td>87.5</td>\n",
       "    </tr>\n",
       "    <tr>\n",
       "      <th>6</th>\n",
       "      <td>S07</td>\n",
       "      <td>64</td>\n",
       "      <td>33</td>\n",
       "      <td>110</td>\n",
       "      <td>97</td>\n",
       "      <td>48.5</td>\n",
       "      <td>55.0</td>\n",
       "    </tr>\n",
       "    <tr>\n",
       "      <th>7</th>\n",
       "      <td>S08</td>\n",
       "      <td>92</td>\n",
       "      <td>88</td>\n",
       "      <td>184</td>\n",
       "      <td>180</td>\n",
       "      <td>90.0</td>\n",
       "      <td>92.0</td>\n",
       "    </tr>\n",
       "    <tr>\n",
       "      <th>8</th>\n",
       "      <td>S09</td>\n",
       "      <td>80</td>\n",
       "      <td>39</td>\n",
       "      <td>126</td>\n",
       "      <td>119</td>\n",
       "      <td>59.5</td>\n",
       "      <td>63.0</td>\n",
       "    </tr>\n",
       "    <tr>\n",
       "      <th>9</th>\n",
       "      <td>S10</td>\n",
       "      <td>89</td>\n",
       "      <td>64</td>\n",
       "      <td>116</td>\n",
       "      <td>153</td>\n",
       "      <td>76.5</td>\n",
       "      <td>58.0</td>\n",
       "    </tr>\n",
       "  </tbody>\n",
       "</table>\n",
       "</div>"
      ],
      "text/plain": [
       "  Student_id  Midterm 1  Midterm 2  final  Addition  % in midterms  \\\n",
       "0        S01         78         82    182       160           80.0   \n",
       "1        S02         82         85    180       167           83.5   \n",
       "2        S03         77         90    188       167           83.5   \n",
       "3        S04         75         77    149       152           76.0   \n",
       "4        S05         67         77    157       144           72.0   \n",
       "5        S06         71         64    175       135           67.5   \n",
       "6        S07         64         33    110        97           48.5   \n",
       "7        S08         92         88    184       180           90.0   \n",
       "8        S09         80         39    126       119           59.5   \n",
       "9        S10         89         64    116       153           76.5   \n",
       "\n",
       "   % in finals  \n",
       "0         91.0  \n",
       "1         90.0  \n",
       "2         94.0  \n",
       "3         74.5  \n",
       "4         78.5  \n",
       "5         87.5  \n",
       "6         55.0  \n",
       "7         92.0  \n",
       "8         63.0  \n",
       "9         58.0  "
      ]
     },
     "execution_count": 9,
     "metadata": {},
     "output_type": "execute_result"
    }
   ],
   "source": [
    "#Q16.What was the % difference between scores in both mid-terms vs the final\n",
    "df = pd.read_excel(\"Exam Stress Final.xlsx\", sheet_name = 'Grades')\n",
    "df['Addition'] = df['Midterm 1']+ df['Midterm 2']\n",
    "df['% in midterms']=df['Addition']*100/200\n",
    "df['% in finals']=df['final']*100/200\n",
    "df"
   ]
  },
  {
   "cell_type": "code",
   "execution_count": 6,
   "id": "a749ea39",
   "metadata": {},
   "outputs": [
    {
     "ename": "KeyError",
     "evalue": "'Student_id'",
     "output_type": "error",
     "traceback": [
      "\u001b[0;31m---------------------------------------------------------------------------\u001b[0m",
      "\u001b[0;31mKeyError\u001b[0m                                  Traceback (most recent call last)",
      "\u001b[0;32m<ipython-input-6-abcfc2e69399>\u001b[0m in \u001b[0;36m<module>\u001b[0;34m\u001b[0m\n\u001b[1;32m      7\u001b[0m \u001b[0;34m\u001b[0m\u001b[0m\n\u001b[1;32m      8\u001b[0m \u001b[0mtotal_students\u001b[0m \u001b[0;34m=\u001b[0m \u001b[0mset\u001b[0m\u001b[0;34m(\u001b[0m\u001b[0;34m)\u001b[0m\u001b[0;34m\u001b[0m\u001b[0;34m\u001b[0m\u001b[0m\n\u001b[0;32m----> 9\u001b[0;31m \u001b[0;32mfor\u001b[0m \u001b[0mi\u001b[0m \u001b[0;32min\u001b[0m \u001b[0mdata\u001b[0m\u001b[0;34m[\u001b[0m\u001b[0;34m'Student_id'\u001b[0m\u001b[0;34m]\u001b[0m\u001b[0;34m:\u001b[0m\u001b[0;34m\u001b[0m\u001b[0;34m\u001b[0m\u001b[0m\n\u001b[0m\u001b[1;32m     10\u001b[0m     \u001b[0mtotal_students\u001b[0m\u001b[0;34m.\u001b[0m\u001b[0madd\u001b[0m\u001b[0;34m(\u001b[0m\u001b[0mi\u001b[0m\u001b[0;34m)\u001b[0m\u001b[0;34m\u001b[0m\u001b[0;34m\u001b[0m\u001b[0m\n\u001b[1;32m     11\u001b[0m \u001b[0;34m\u001b[0m\u001b[0m\n",
      "\u001b[0;31mKeyError\u001b[0m: 'Student_id'"
     ]
    }
   ],
   "source": [
    "# Q:17 - What % of all students are Asian?\n",
    "data = pd.read_excel('Exam_Stress_Final.xlsx', \n",
    "                   sheet_name=['Demography','Grades','EDA','HR','Temp','IBI'])\n",
    "\n",
    "dict_df = pd.read_excel('Exam_Stress_Final.xlsx', \n",
    "                   sheet_name=['Demography','Grades','EDA','HR','Temp','IBI'])\n",
    "\n",
    "total_students = set()\n",
    "for i in data['Student_id']:\n",
    "    total_students.add(i)\n",
    "    \n",
    "count_total_students=len(total_students)\n",
    "print('total_student:', total_students) \n",
    "print('count_total_students:', count_total_students)\n",
    "\n",
    "Demography_df = dict_df.get('Demography')\n",
    "print(Demography_df)\n",
    "type((Demography_df))\n",
    "\n",
    "asian_count = 0\n",
    "for i in Demography_df['Race']:\n",
    "    if (i == 'Asian'):\n",
    "        asian_count = asian_count+1\n",
    "print(asian_count)\n",
    "\n",
    "asian_students_percentage = (asian_count/count_total_students)*100\n",
    "print('Asian students percentage is:', asian_students_percentage, '%')"
   ]
  },
  {
   "cell_type": "code",
   "execution_count": null,
   "id": "4fde147a",
   "metadata": {},
   "outputs": [],
   "source": []
  },
  {
   "cell_type": "code",
   "execution_count": null,
   "id": "742cfb06",
   "metadata": {},
   "outputs": [],
   "source": []
  },
  {
   "cell_type": "code",
   "execution_count": null,
   "id": "505785fb",
   "metadata": {},
   "outputs": [],
   "source": []
  },
  {
   "cell_type": "code",
   "execution_count": null,
   "id": "709ac4df",
   "metadata": {},
   "outputs": [],
   "source": []
  },
  {
   "cell_type": "code",
   "execution_count": null,
   "id": "e2152229",
   "metadata": {},
   "outputs": [],
   "source": []
  },
  {
   "cell_type": "code",
   "execution_count": null,
   "id": "9db18dc4",
   "metadata": {},
   "outputs": [],
   "source": []
  },
  {
   "cell_type": "code",
   "execution_count": null,
   "id": "1a8befae",
   "metadata": {},
   "outputs": [],
   "source": []
  },
  {
   "cell_type": "code",
   "execution_count": null,
   "id": "08627d8e",
   "metadata": {},
   "outputs": [],
   "source": []
  },
  {
   "cell_type": "code",
   "execution_count": 30,
   "id": "4ec33d24",
   "metadata": {},
   "outputs": [
    {
     "data": {
      "text/html": [
       "<div>\n",
       "<style scoped>\n",
       "    .dataframe tbody tr th:only-of-type {\n",
       "        vertical-align: middle;\n",
       "    }\n",
       "\n",
       "    .dataframe tbody tr th {\n",
       "        vertical-align: top;\n",
       "    }\n",
       "\n",
       "    .dataframe thead th {\n",
       "        text-align: right;\n",
       "    }\n",
       "</style>\n",
       "<table border=\"1\" class=\"dataframe\">\n",
       "  <thead>\n",
       "    <tr style=\"text-align: right;\">\n",
       "      <th>Student_id</th>\n",
       "      <th>S01</th>\n",
       "      <th>S010</th>\n",
       "      <th>S02</th>\n",
       "      <th>S03</th>\n",
       "      <th>S04</th>\n",
       "      <th>S05</th>\n",
       "      <th>S06</th>\n",
       "      <th>S07</th>\n",
       "      <th>S08</th>\n",
       "      <th>S09</th>\n",
       "    </tr>\n",
       "  </thead>\n",
       "  <tbody>\n",
       "    <tr>\n",
       "      <th>EDA</th>\n",
       "      <td>0.161171</td>\n",
       "      <td>0.149369</td>\n",
       "      <td>0.111534</td>\n",
       "      <td>0.272532</td>\n",
       "      <td>0.464468</td>\n",
       "      <td>0.370783</td>\n",
       "      <td>0.256905</td>\n",
       "      <td>0.208034</td>\n",
       "      <td>0.393437</td>\n",
       "      <td>0.299416</td>\n",
       "    </tr>\n",
       "    <tr>\n",
       "      <th>HR</th>\n",
       "      <td>106.522138</td>\n",
       "      <td>106.231091</td>\n",
       "      <td>114.313813</td>\n",
       "      <td>103.283502</td>\n",
       "      <td>98.399456</td>\n",
       "      <td>104.806015</td>\n",
       "      <td>104.793488</td>\n",
       "      <td>103.842102</td>\n",
       "      <td>105.475896</td>\n",
       "      <td>98.802752</td>\n",
       "    </tr>\n",
       "    <tr>\n",
       "      <th>TEMP</th>\n",
       "      <td>26.475624</td>\n",
       "      <td>26.187834</td>\n",
       "      <td>28.224066</td>\n",
       "      <td>26.899314</td>\n",
       "      <td>26.826271</td>\n",
       "      <td>28.553185</td>\n",
       "      <td>27.228459</td>\n",
       "      <td>25.569712</td>\n",
       "      <td>28.464253</td>\n",
       "      <td>28.453486</td>\n",
       "    </tr>\n",
       "  </tbody>\n",
       "</table>\n",
       "</div>"
      ],
      "text/plain": [
       "Student_id         S01        S010         S02         S03        S04  \\\n",
       "EDA           0.161171    0.149369    0.111534    0.272532   0.464468   \n",
       "HR          106.522138  106.231091  114.313813  103.283502  98.399456   \n",
       "TEMP         26.475624   26.187834   28.224066   26.899314  26.826271   \n",
       "\n",
       "Student_id         S05         S06         S07         S08        S09  \n",
       "EDA           0.370783    0.256905    0.208034    0.393437   0.299416  \n",
       "HR          104.806015  104.793488  103.842102  105.475896  98.802752  \n",
       "TEMP         28.553185   27.228459   25.569712   28.464253  28.453486  "
      ]
     },
     "execution_count": 30,
     "metadata": {},
     "output_type": "execute_result"
    }
   ],
   "source": [
    "#Q.33 Make a pivot table where Student IDs are the columns and EDA, HR and temp values are the rows\n",
    "\n",
    "df_exam = pd.read_excel('Combined_Exam_Stress_Final.xlsx')\n",
    "df_pivot=pd.pivot_table(df_exam, values = ['EDA', 'HR', 'TEMP'], columns = 'Student_id')\n",
    "\n",
    "df_pivot"
   ]
  },
  {
   "cell_type": "markdown",
   "id": "ad8abb4b",
   "metadata": {},
   "source": [
    "# Q34-"
   ]
  },
  {
   "cell_type": "code",
   "execution_count": 27,
   "id": "74635984",
   "metadata": {},
   "outputs": [
    {
     "ename": "TypeError",
     "evalue": "unsupported operand type(s) for %: 'Timestamp' and 'int'",
     "output_type": "error",
     "traceback": [
      "\u001b[1;31m---------------------------------------------------------------------------\u001b[0m",
      "\u001b[1;31mTypeError\u001b[0m                                 Traceback (most recent call last)",
      "Cell \u001b[1;32mIn[27], line 14\u001b[0m\n\u001b[0;32m     11\u001b[0m     \u001b[38;5;28;01melse\u001b[39;00m:\n\u001b[0;32m     12\u001b[0m         \u001b[38;5;28mprint\u001b[39m(\u001b[38;5;124m\"\u001b[39m\u001b[38;5;132;01m{0}\u001b[39;00m\u001b[38;5;124m is not a leap year\u001b[39m\u001b[38;5;124m\"\u001b[39m\u001b[38;5;241m.\u001b[39mformat(year))\n\u001b[1;32m---> 14\u001b[0m df[\u001b[38;5;124m\"\u001b[39m\u001b[38;5;124mBirth_year\u001b[39m\u001b[38;5;124m\"\u001b[39m] \u001b[38;5;241m=\u001b[39m df_De_Gr_HR_Combined[\u001b[38;5;124m'\u001b[39m\u001b[38;5;124mDOB\u001b[39m\u001b[38;5;124m'\u001b[39m]\u001b[38;5;241m.\u001b[39mapply(leap_Birth_Year)    \n\u001b[0;32m     16\u001b[0m \u001b[38;5;28mprint\u001b[39m(df_De_Gr_HR_Combined)\n",
      "File \u001b[1;32m~\\anaconda3\\Lib\\site-packages\\pandas\\core\\series.py:4630\u001b[0m, in \u001b[0;36mSeries.apply\u001b[1;34m(self, func, convert_dtype, args, **kwargs)\u001b[0m\n\u001b[0;32m   4520\u001b[0m \u001b[38;5;28;01mdef\u001b[39;00m \u001b[38;5;21mapply\u001b[39m(\n\u001b[0;32m   4521\u001b[0m     \u001b[38;5;28mself\u001b[39m,\n\u001b[0;32m   4522\u001b[0m     func: AggFuncType,\n\u001b[1;32m   (...)\u001b[0m\n\u001b[0;32m   4525\u001b[0m     \u001b[38;5;241m*\u001b[39m\u001b[38;5;241m*\u001b[39mkwargs,\n\u001b[0;32m   4526\u001b[0m ) \u001b[38;5;241m-\u001b[39m\u001b[38;5;241m>\u001b[39m DataFrame \u001b[38;5;241m|\u001b[39m Series:\n\u001b[0;32m   4527\u001b[0m \u001b[38;5;250m    \u001b[39m\u001b[38;5;124;03m\"\"\"\u001b[39;00m\n\u001b[0;32m   4528\u001b[0m \u001b[38;5;124;03m    Invoke function on values of Series.\u001b[39;00m\n\u001b[0;32m   4529\u001b[0m \n\u001b[1;32m   (...)\u001b[0m\n\u001b[0;32m   4628\u001b[0m \u001b[38;5;124;03m    dtype: float64\u001b[39;00m\n\u001b[0;32m   4629\u001b[0m \u001b[38;5;124;03m    \"\"\"\u001b[39;00m\n\u001b[1;32m-> 4630\u001b[0m     \u001b[38;5;28;01mreturn\u001b[39;00m SeriesApply(\u001b[38;5;28mself\u001b[39m, func, convert_dtype, args, kwargs)\u001b[38;5;241m.\u001b[39mapply()\n",
      "File \u001b[1;32m~\\anaconda3\\Lib\\site-packages\\pandas\\core\\apply.py:1025\u001b[0m, in \u001b[0;36mSeriesApply.apply\u001b[1;34m(self)\u001b[0m\n\u001b[0;32m   1022\u001b[0m     \u001b[38;5;28;01mreturn\u001b[39;00m \u001b[38;5;28mself\u001b[39m\u001b[38;5;241m.\u001b[39mapply_str()\n\u001b[0;32m   1024\u001b[0m \u001b[38;5;66;03m# self.f is Callable\u001b[39;00m\n\u001b[1;32m-> 1025\u001b[0m \u001b[38;5;28;01mreturn\u001b[39;00m \u001b[38;5;28mself\u001b[39m\u001b[38;5;241m.\u001b[39mapply_standard()\n",
      "File \u001b[1;32m~\\anaconda3\\Lib\\site-packages\\pandas\\core\\apply.py:1076\u001b[0m, in \u001b[0;36mSeriesApply.apply_standard\u001b[1;34m(self)\u001b[0m\n\u001b[0;32m   1074\u001b[0m     \u001b[38;5;28;01melse\u001b[39;00m:\n\u001b[0;32m   1075\u001b[0m         values \u001b[38;5;241m=\u001b[39m obj\u001b[38;5;241m.\u001b[39mastype(\u001b[38;5;28mobject\u001b[39m)\u001b[38;5;241m.\u001b[39m_values\n\u001b[1;32m-> 1076\u001b[0m         mapped \u001b[38;5;241m=\u001b[39m lib\u001b[38;5;241m.\u001b[39mmap_infer(\n\u001b[0;32m   1077\u001b[0m             values,\n\u001b[0;32m   1078\u001b[0m             f,\n\u001b[0;32m   1079\u001b[0m             convert\u001b[38;5;241m=\u001b[39m\u001b[38;5;28mself\u001b[39m\u001b[38;5;241m.\u001b[39mconvert_dtype,\n\u001b[0;32m   1080\u001b[0m         )\n\u001b[0;32m   1082\u001b[0m \u001b[38;5;28;01mif\u001b[39;00m \u001b[38;5;28mlen\u001b[39m(mapped) \u001b[38;5;129;01mand\u001b[39;00m \u001b[38;5;28misinstance\u001b[39m(mapped[\u001b[38;5;241m0\u001b[39m], ABCSeries):\n\u001b[0;32m   1083\u001b[0m     \u001b[38;5;66;03m# GH#43986 Need to do list(mapped) in order to get treated as nested\u001b[39;00m\n\u001b[0;32m   1084\u001b[0m     \u001b[38;5;66;03m#  See also GH#25959 regarding EA support\u001b[39;00m\n\u001b[0;32m   1085\u001b[0m     \u001b[38;5;28;01mreturn\u001b[39;00m obj\u001b[38;5;241m.\u001b[39m_constructor_expanddim(\u001b[38;5;28mlist\u001b[39m(mapped), index\u001b[38;5;241m=\u001b[39mobj\u001b[38;5;241m.\u001b[39mindex)\n",
      "File \u001b[1;32m~\\anaconda3\\Lib\\site-packages\\pandas\\_libs\\lib.pyx:2834\u001b[0m, in \u001b[0;36mpandas._libs.lib.map_infer\u001b[1;34m()\u001b[0m\n",
      "Cell \u001b[1;32mIn[27], line 7\u001b[0m, in \u001b[0;36mleap_Birth_Year\u001b[1;34m(year)\u001b[0m\n\u001b[0;32m      6\u001b[0m \u001b[38;5;28;01mdef\u001b[39;00m \u001b[38;5;21mleap_Birth_Year\u001b[39m(year):\n\u001b[1;32m----> 7\u001b[0m     \u001b[38;5;28;01mif\u001b[39;00m(year \u001b[38;5;241m%\u001b[39m \u001b[38;5;241m400\u001b[39m \u001b[38;5;241m==\u001b[39m \u001b[38;5;241m0\u001b[39m) \u001b[38;5;129;01mand\u001b[39;00m (year \u001b[38;5;241m%\u001b[39m \u001b[38;5;241m100\u001b[39m \u001b[38;5;241m==\u001b[39m \u001b[38;5;241m0\u001b[39m):\n\u001b[0;32m      8\u001b[0m         \u001b[38;5;28mprint\u001b[39m(\u001b[38;5;124m\"\u001b[39m\u001b[38;5;132;01m{0}\u001b[39;00m\u001b[38;5;124m\"\u001b[39m\u001b[38;5;241m.\u001b[39mformat(year))\n\u001b[0;32m      9\u001b[0m     \u001b[38;5;28;01melif\u001b[39;00m(year \u001b[38;5;241m%\u001b[39m \u001b[38;5;241m4\u001b[39m \u001b[38;5;241m==\u001b[39m \u001b[38;5;241m0\u001b[39m) \u001b[38;5;129;01mand\u001b[39;00m (year \u001b[38;5;241m%\u001b[39m \u001b[38;5;241m100\u001b[39m \u001b[38;5;241m==\u001b[39m\u001b[38;5;241m0\u001b[39m):\n",
      "\u001b[1;31mTypeError\u001b[0m: unsupported operand type(s) for %: 'Timestamp' and 'int'"
     ]
    }
   ],
   "source": [
    "#Q.34 Display the Student Demographics and Grades who are born in leap Year\n",
    "\n",
    "df_De_Gr_HR_Combined = pd.read_excel(\"De_Gr_HR_Combined.xlsx\")\n",
    "year = df_De_Gr_HR_Combined['DOB'].dt.year\n",
    "\n",
    "def leap_Birth_Year(year):\n",
    "    if(year % 400 == 0) and (year % 100 == 0):\n",
    "        print(\"{0}\".format(year))\n",
    "    elif(year % 4 == 0) and (year % 100 ==0):\n",
    "        print(\"{0}\".format(year))\n",
    "    else:\n",
    "        print(\"{0} is not a leap year\".format(year))\n",
    "    \n",
    "df[\"Birth_year\"] = df_De_Gr_HR_Combined['DOB'].apply(leap_Birth_Year)    \n",
    "    \n",
    "print(df_De_Gr_HR_Combined)"
   ]
  },
  {
   "cell_type": "code",
   "execution_count": null,
   "id": "912ba670",
   "metadata": {},
   "outputs": [],
   "source": []
  },
  {
   "cell_type": "code",
   "execution_count": 5,
   "id": "8051ba8b",
   "metadata": {},
   "outputs": [
    {
     "data": {
      "text/html": [
       "<div>\n",
       "<style scoped>\n",
       "    .dataframe tbody tr th:only-of-type {\n",
       "        vertical-align: middle;\n",
       "    }\n",
       "\n",
       "    .dataframe tbody tr th {\n",
       "        vertical-align: top;\n",
       "    }\n",
       "\n",
       "    .dataframe thead th {\n",
       "        text-align: right;\n",
       "    }\n",
       "</style>\n",
       "<table border=\"1\" class=\"dataframe\">\n",
       "  <thead>\n",
       "    <tr style=\"text-align: right;\">\n",
       "      <th></th>\n",
       "      <th>Student_id</th>\n",
       "      <th>Midterm 1</th>\n",
       "      <th>Midterm 2</th>\n",
       "      <th>final</th>\n",
       "      <th>Addition</th>\n",
       "      <th>Result Average Percentage</th>\n",
       "      <th>Grades</th>\n",
       "    </tr>\n",
       "  </thead>\n",
       "  <tbody>\n",
       "    <tr>\n",
       "      <th>0</th>\n",
       "      <td>S01</td>\n",
       "      <td>78</td>\n",
       "      <td>82</td>\n",
       "      <td>182</td>\n",
       "      <td>342</td>\n",
       "      <td>85.50</td>\n",
       "      <td>A</td>\n",
       "    </tr>\n",
       "    <tr>\n",
       "      <th>1</th>\n",
       "      <td>S02</td>\n",
       "      <td>82</td>\n",
       "      <td>85</td>\n",
       "      <td>180</td>\n",
       "      <td>347</td>\n",
       "      <td>86.75</td>\n",
       "      <td>A</td>\n",
       "    </tr>\n",
       "    <tr>\n",
       "      <th>2</th>\n",
       "      <td>S03</td>\n",
       "      <td>77</td>\n",
       "      <td>90</td>\n",
       "      <td>188</td>\n",
       "      <td>355</td>\n",
       "      <td>88.75</td>\n",
       "      <td>A</td>\n",
       "    </tr>\n",
       "    <tr>\n",
       "      <th>3</th>\n",
       "      <td>S04</td>\n",
       "      <td>75</td>\n",
       "      <td>77</td>\n",
       "      <td>149</td>\n",
       "      <td>301</td>\n",
       "      <td>75.25</td>\n",
       "      <td>B</td>\n",
       "    </tr>\n",
       "    <tr>\n",
       "      <th>4</th>\n",
       "      <td>S05</td>\n",
       "      <td>67</td>\n",
       "      <td>77</td>\n",
       "      <td>157</td>\n",
       "      <td>301</td>\n",
       "      <td>75.25</td>\n",
       "      <td>B</td>\n",
       "    </tr>\n",
       "    <tr>\n",
       "      <th>5</th>\n",
       "      <td>S06</td>\n",
       "      <td>71</td>\n",
       "      <td>64</td>\n",
       "      <td>175</td>\n",
       "      <td>310</td>\n",
       "      <td>77.50</td>\n",
       "      <td>B</td>\n",
       "    </tr>\n",
       "    <tr>\n",
       "      <th>6</th>\n",
       "      <td>S07</td>\n",
       "      <td>64</td>\n",
       "      <td>33</td>\n",
       "      <td>110</td>\n",
       "      <td>207</td>\n",
       "      <td>51.75</td>\n",
       "      <td>C</td>\n",
       "    </tr>\n",
       "    <tr>\n",
       "      <th>7</th>\n",
       "      <td>S08</td>\n",
       "      <td>92</td>\n",
       "      <td>88</td>\n",
       "      <td>184</td>\n",
       "      <td>364</td>\n",
       "      <td>91.00</td>\n",
       "      <td>A</td>\n",
       "    </tr>\n",
       "    <tr>\n",
       "      <th>8</th>\n",
       "      <td>S09</td>\n",
       "      <td>80</td>\n",
       "      <td>39</td>\n",
       "      <td>126</td>\n",
       "      <td>245</td>\n",
       "      <td>61.25</td>\n",
       "      <td>B</td>\n",
       "    </tr>\n",
       "    <tr>\n",
       "      <th>9</th>\n",
       "      <td>S10</td>\n",
       "      <td>89</td>\n",
       "      <td>64</td>\n",
       "      <td>116</td>\n",
       "      <td>269</td>\n",
       "      <td>67.25</td>\n",
       "      <td>B</td>\n",
       "    </tr>\n",
       "  </tbody>\n",
       "</table>\n",
       "</div>"
      ],
      "text/plain": [
       "  Student_id  Midterm 1  Midterm 2  final  Addition  \\\n",
       "0        S01         78         82    182       342   \n",
       "1        S02         82         85    180       347   \n",
       "2        S03         77         90    188       355   \n",
       "3        S04         75         77    149       301   \n",
       "4        S05         67         77    157       301   \n",
       "5        S06         71         64    175       310   \n",
       "6        S07         64         33    110       207   \n",
       "7        S08         92         88    184       364   \n",
       "8        S09         80         39    126       245   \n",
       "9        S10         89         64    116       269   \n",
       "\n",
       "   Result Average Percentage Grades  \n",
       "0                      85.50      A  \n",
       "1                      86.75      A  \n",
       "2                      88.75      A  \n",
       "3                      75.25      B  \n",
       "4                      75.25      B  \n",
       "5                      77.50      B  \n",
       "6                      51.75      C  \n",
       "7                      91.00      A  \n",
       "8                      61.25      B  \n",
       "9                      67.25      B  "
      ]
     },
     "execution_count": 5,
     "metadata": {},
     "output_type": "execute_result"
    }
   ],
   "source": [
    "#Q35. Create a Bins of Grades to segregate the students in Grades  'A','B',C'\n",
    "\n",
    "df = pd.read_excel(\"Exam Stress Final.xlsx\", sheet_name = 'Grades')\n",
    "\n",
    "# Average grade percentage\n",
    "df['Addition'] = df['Midterm 1']+ df['Midterm 2'] + df['final']\n",
    "df['Result Average Percentage'] = df['Addition']*100/400\n",
    "\n",
    "#Define bins for Average grade % - for 0 to 55 grade 'C', 55 to 80 grade 'B',  greater than 80, grade 'A'\n",
    "\n",
    "Bins = (0, 55, 80, 100)\n",
    "\n",
    "#names for bin names\n",
    "\n",
    "Grade_Names = ['C', 'B', 'A']\n",
    "\n",
    "\n",
    "df['Grades'] = pd.cut(df['Result Average Percentage'], Bins, labels = Grade_Names)\n",
    "\n",
    "df"
   ]
  },
  {
   "cell_type": "code",
   "execution_count": 6,
   "id": "20ba5514",
   "metadata": {},
   "outputs": [
    {
     "name": "stdout",
     "output_type": "stream",
     "text": [
      "Requirement already satisfied: wordcloud in c:\\users\\tech world inc\\anaconda3\\lib\\site-packages (1.9.2)\n",
      "Requirement already satisfied: numpy>=1.6.1 in c:\\users\\tech world inc\\anaconda3\\lib\\site-packages (from wordcloud) (1.24.3)\n",
      "Requirement already satisfied: pillow in c:\\users\\tech world inc\\anaconda3\\lib\\site-packages (from wordcloud) (9.4.0)\n",
      "Requirement already satisfied: matplotlib in c:\\users\\tech world inc\\anaconda3\\lib\\site-packages (from wordcloud) (3.7.2)\n",
      "Requirement already satisfied: contourpy>=1.0.1 in c:\\users\\tech world inc\\anaconda3\\lib\\site-packages (from matplotlib->wordcloud) (1.0.5)\n",
      "Requirement already satisfied: cycler>=0.10 in c:\\users\\tech world inc\\anaconda3\\lib\\site-packages (from matplotlib->wordcloud) (0.11.0)\n",
      "Requirement already satisfied: fonttools>=4.22.0 in c:\\users\\tech world inc\\anaconda3\\lib\\site-packages (from matplotlib->wordcloud) (4.25.0)\n",
      "Requirement already satisfied: kiwisolver>=1.0.1 in c:\\users\\tech world inc\\anaconda3\\lib\\site-packages (from matplotlib->wordcloud) (1.4.4)\n",
      "Requirement already satisfied: packaging>=20.0 in c:\\users\\tech world inc\\anaconda3\\lib\\site-packages (from matplotlib->wordcloud) (23.1)\n",
      "Requirement already satisfied: pyparsing<3.1,>=2.3.1 in c:\\users\\tech world inc\\anaconda3\\lib\\site-packages (from matplotlib->wordcloud) (3.0.9)\n",
      "Requirement already satisfied: python-dateutil>=2.7 in c:\\users\\tech world inc\\anaconda3\\lib\\site-packages (from matplotlib->wordcloud) (2.8.2)\n",
      "Requirement already satisfied: six>=1.5 in c:\\users\\tech world inc\\anaconda3\\lib\\site-packages (from python-dateutil>=2.7->matplotlib->wordcloud) (1.16.0)\n"
     ]
    }
   ],
   "source": [
    "#Q36. Create a Word Cloud with First name of Student Names based on thier Race \n",
    "\n",
    "!pip install wordcloud\n",
    "\n",
    "from wordcloud import WordCloud, STOPWORDS\n",
    "import matplotlib.pyplot as plt\n",
    "import pandas as pd"
   ]
  },
  {
   "cell_type": "code",
   "execution_count": 7,
   "id": "fc2d0cdd",
   "metadata": {},
   "outputs": [
    {
     "data": {
      "image/png": "[encoded data removed]",
      "text/plain": [
       "<Figure size 1500x1000 with 1 Axes>"
      ]
     },
     "metadata": {},
     "output_type": "display_data"
    }
   ],
   "source": [
    "#Q36. Create a Word Cloud with First name of Student Names based on thier Race \n",
    "\n",
    "df = pd.read_excel(\"Exam Stress Final.xlsx\", sheet_name = 'Demography')\n",
    "\n",
    "# Unify text from First Name column\n",
    "text = df['First Name'].values \n",
    "\n",
    "# size of word cloud\n",
    "plt.rcParams[\"figure.figsize\"] = (15,10)\n",
    "\n",
    "wordcloud = WordCloud(max_font_size = 50).generate(str(text))\n",
    "\n",
    "#plot word cloud\n",
    "\n",
    "plt.plot()\n",
    "\n",
    "plt.imshow(wordcloud, interpolation = 'bilinear')\n",
    "plt.axis(\"off\")\n",
    "plt.show()"
   ]
  },
  {
   "cell_type": "code",
   "execution_count": 31,
   "id": "0eab0583",
   "metadata": {},
   "outputs": [
    {
     "name": "stdout",
     "output_type": "stream",
     "text": [
      "Student_id  First Name  Last Name  Midterm 1  Midterm 2  final\n",
      "S01         Barbara     Walters    78         82         182      190.713\n",
      "S02         Nora        Jones      82         85         180      196.847\n",
      "S03         Gabriel     Willows    77         90         188      194.839\n",
      "S04         John        Doe        75         77         149      199.278\n",
      "S05         Jane        Doe        67         77         157      198.272\n",
      "S06         Pat         Murray     71         64         175      199.156\n",
      "S07         Roger       Frederick  64         33         110      186.544\n",
      "S08         John        Wills      92         88         184      192.261\n",
      "S09         Paul        Cartney    80         39         126      197.741\n",
      "S10         Janice      Smith      89         64         116      182.027\n",
      "Name: HR, dtype: float64 Max_Heart_Rate\n"
     ]
    }
   ],
   "source": [
    "#Q37 Display the student Names and respective grades who has Maximum heart rate\n",
    "df_exam = pd.read_excel(\"De_Gr_HR_Combined.xlsx\")\n",
    "\n",
    "Max_Heart_Rate = (df_exam.groupby(['Student_id', 'First Name', 'Last Name', 'Midterm 1', 'Midterm 2', 'final'])['HR']).max()\n",
    "\n",
    "print(Max_Heart_Rate, \"Max_Heart_Rate\")\n"
   ]
  },
  {
   "cell_type": "code",
   "execution_count": 32,
   "id": "87903c10",
   "metadata": {},
   "outputs": [
    {
     "name": "stdout",
     "output_type": "stream",
     "text": [
      "Enter your number =4\n",
      "Original array: array('i', [1, 6, 4, 4, 1, 0, 4, 6, 1, 4, 3, 44, 4])\n",
      "Number of occurences of the number 4 in said array: 5\n"
     ]
    }
   ],
   "source": [
    "#Q38 Write a Python program to get the number of occurrences of a specified element in the array.\n",
    "\n",
    "\n",
    "n = int(input(\"Enter your number =\"))\n",
    "\n",
    "from array import *\n",
    "arr = array('i', [1, 6, 4, 4, 1, 0, 4, 6, 1, 4, 3, 44, 4])\n",
    "\n",
    "print(\"Original array: \"+ str(arr))\n",
    "print(\"Number of occurences of the number\", n ,\"in said array: \"+str(arr.count(n)))"
   ]
  },
  {
   "cell_type": "code",
   "execution_count": 38,
   "id": "46de77c5",
   "metadata": {},
   "outputs": [
    {
     "name": "stdout",
     "output_type": "stream",
     "text": [
      "Enter your dim (x) to create 3Dlist =3\n",
      "Enter your dim (y) to create 3Dlist =3\n",
      "Enter your dim (z) to create 3Dlist=3\n",
      "Enter your number/list to create 3Dlist =[5,[2,7],9]\n"
     ]
    },
    {
     "data": {
      "text/plain": [
       "[[['[5,[2,7],9]', '[5,[2,7],9]', '[5,[2,7],9]'],\n",
       "  ['[5,[2,7],9]', '[5,[2,7],9]', '[5,[2,7],9]'],\n",
       "  ['[5,[2,7],9]', '[5,[2,7],9]', '[5,[2,7],9]']],\n",
       " [['[5,[2,7],9]', '[5,[2,7],9]', '[5,[2,7],9]'],\n",
       "  ['[5,[2,7],9]', '[5,[2,7],9]', '[5,[2,7],9]'],\n",
       "  ['[5,[2,7],9]', '[5,[2,7],9]', '[5,[2,7],9]']],\n",
       " [['[5,[2,7],9]', '[5,[2,7],9]', '[5,[2,7],9]'],\n",
       "  ['[5,[2,7],9]', '[5,[2,7],9]', '[5,[2,7],9]'],\n",
       "  ['[5,[2,7],9]', '[5,[2,7],9]', '[5,[2,7],9]']]]"
      ]
     },
     "execution_count": 38,
     "metadata": {},
     "output_type": "execute_result"
    }
   ],
   "source": [
    "#Q.39 Create a 3D list using nested for loops.\n",
    "\n",
    "x = int(input(\"Enter your dim (x) to create 3Dlist =\"))\n",
    "y = int(input(\"Enter your dim (y) to create 3Dlist =\"))\n",
    "z = int(input(\"Enter your dim (z) to create 3Dlist=\"))\n",
    "\n",
    "a = input(\"Enter your number/list to create 3Dlist =\")\n",
    "\n",
    "\n",
    "def create_3d_list(x, y, z):\n",
    "    Arr = []\n",
    "    for i in range(x):\n",
    "        Arr_2d = []\n",
    "        for j in range(y):\n",
    "            Arr_1d = []\n",
    "            for k in range(z):\n",
    "                Arr_1d.append(a)\n",
    "            Arr_2d.append(Arr_1d)\n",
    "        Arr.append(Arr_2d)\n",
    "    return Arr\n",
    " \n",
    "ThreeD_arr = create_3d_list(x, y, z)\n",
    "\n",
    "ThreeD_arr"
   ]
  },
  {
   "cell_type": "code",
   "execution_count": 10,
   "id": "a1a78df7",
   "metadata": {},
   "outputs": [
    {
     "name": "stdout",
     "output_type": "stream",
     "text": [
      "[1, 2, 3]\n",
      "[4, 5, 6]\n",
      "[7, 8, 9]\n"
     ]
    }
   ],
   "source": [
    "#Q.40 #Display each row of this array as a separate slice\n",
    "\n",
    "Array = [\n",
    "    [1, 2, 3],\n",
    "    [4, 5, 6],\n",
    "    [7, 8, 9]\n",
    "]\n",
    "\n",
    "print(Array[0])\n",
    "print(Array[1])\n",
    "print(Array[2])"
   ]
  },
  {
   "cell_type": "code",
   "execution_count": 14,
   "id": "5bc93200",
   "metadata": {},
   "outputs": [
    {
     "data": {
      "text/html": [
       "<div>\n",
       "<style scoped>\n",
       "    .dataframe tbody tr th:only-of-type {\n",
       "        vertical-align: middle;\n",
       "    }\n",
       "\n",
       "    .dataframe tbody tr th {\n",
       "        vertical-align: top;\n",
       "    }\n",
       "\n",
       "    .dataframe thead th {\n",
       "        text-align: right;\n",
       "    }\n",
       "</style>\n",
       "<table border=\"1\" class=\"dataframe\">\n",
       "  <thead>\n",
       "    <tr style=\"text-align: right;\">\n",
       "      <th></th>\n",
       "      <th>Student_id</th>\n",
       "      <th>DOB</th>\n",
       "      <th>First Name</th>\n",
       "      <th>Last Name</th>\n",
       "      <th>Gender</th>\n",
       "      <th>Race</th>\n",
       "      <th>TEMP</th>\n",
       "      <th>Time in mins</th>\n",
       "      <th>Exam</th>\n",
       "    </tr>\n",
       "  </thead>\n",
       "  <tbody>\n",
       "    <tr>\n",
       "      <th>921</th>\n",
       "      <td>S02</td>\n",
       "      <td>2009-02-02</td>\n",
       "      <td>Nora</td>\n",
       "      <td>Jones</td>\n",
       "      <td>F</td>\n",
       "      <td>White</td>\n",
       "      <td>36.042</td>\n",
       "      <td>162.0</td>\n",
       "      <td>final</td>\n",
       "    </tr>\n",
       "  </tbody>\n",
       "</table>\n",
       "</div>"
      ],
      "text/plain": [
       "    Student_id        DOB First Name Last Name Gender   Race    TEMP  \\\n",
       "921        S02 2009-02-02       Nora     Jones      F  White  36.042   \n",
       "\n",
       "     Time in mins   Exam  \n",
       "921         162.0  final  "
      ]
     },
     "execution_count": 14,
     "metadata": {},
     "output_type": "execute_result"
    }
   ],
   "source": [
    "#Q. 41 Find the Student name and the Exam who has the Temprature '36.042'\n",
    "\n",
    "df1= pd.read_excel(\"Exam Stress Final.xlsx\", sheet_name = 'Demography')\n",
    "df2= pd.read_excel(\"Exam Stress Final.xlsx\", sheet_name = 'Temp')\n",
    "\n",
    "Values1 = df1[['Student_id','DOB','First Name','Last Name', 'Gender', 'Race']]\n",
    "Values2 = df2[['TEMP', 'Time in mins', 'Student_id', 'Exam']]\n",
    "\n",
    "df_Demo_Temp_Combined = pd.merge(df1, df2, on='Student_id', how='outer')\n",
    "\n",
    "#df_Demo_Temp_Combined.to_excel(\"Temp & Demography_Combined.xlsx\")\n",
    "\n",
    "df_Demo_Temp_Combined.query(\"TEMP == 36.042 & Exam == 'final'\")\n",
    "\n",
    "df1 = df_Demo_Temp_Combined.query(\"TEMP == 36.042 & Exam == 'final'\")\n",
    "df1"
   ]
  },
  {
   "cell_type": "markdown",
   "id": "8ea7c6e1",
   "metadata": {},
   "source": [
    "# Q42 - "
   ]
  },
  {
   "cell_type": "code",
   "execution_count": 25,
   "id": "cb488ac1",
   "metadata": {},
   "outputs": [
    {
     "data": {
      "text/plain": [
       "array([['S01', 'Barbara', 'Walters', 'F'],\n",
       "       ['S02', 'Nora', 'Jones', 'F'],\n",
       "       ['S03', 'Gabriel', 'Willows', 'F'],\n",
       "       ['S04', 'John', 'Doe', 'M'],\n",
       "       ['S05', 'Jane', 'Doe', 'F'],\n",
       "       ['S06', 'Pat', 'Murray', 'M'],\n",
       "       ['S07', 'Roger', 'Frederick', 'M'],\n",
       "       ['S08', 'John', 'Wills', 'M'],\n",
       "       ['S09', 'Paul', 'Cartney', 'M'],\n",
       "       ['S10', 'Janice', 'Smith', 'F']], dtype=object)"
      ]
     },
     "execution_count": 25,
     "metadata": {},
     "output_type": "execute_result"
    }
   ],
   "source": [
    "#Q.42 Using arrays and loops, find the count of students based on gender.\n",
    "\n",
    "df3 = pd.read_excel(\"Exam Stress Final.xlsx\", sheet_name = 'Demography')\n",
    "array1 = df3[['Student_id', 'First Name', 'Last Name','Gender']].to_numpy()\n",
    "#length = len(array1)\n",
    "#length\n",
    "#df3\n",
    "\n",
    "array1"
   ]
  },
  {
   "cell_type": "code",
   "execution_count": 26,
   "id": "ae442494",
   "metadata": {},
   "outputs": [
    {
     "ename": "ModuleNotFoundError",
     "evalue": "No module named 'array1'",
     "output_type": "error",
     "traceback": [
      "\u001b[1;31m---------------------------------------------------------------------------\u001b[0m",
      "\u001b[1;31mModuleNotFoundError\u001b[0m                       Traceback (most recent call last)",
      "Cell \u001b[1;32mIn[26], line 1\u001b[0m\n\u001b[1;32m----> 1\u001b[0m \u001b[38;5;28;01mfrom\u001b[39;00m \u001b[38;5;21;01marray1\u001b[39;00m \u001b[38;5;28;01mimport\u001b[39;00m \u001b[38;5;241m*\u001b[39m\n\u001b[0;32m      2\u001b[0m \u001b[38;5;28;01mif\u001b[39;00m Gender \u001b[38;5;129;01min\u001b[39;00m \u001b[38;5;28mlen\u001b[39m[array1] \u001b[38;5;241m==\u001b[39m \u001b[38;5;124m'\u001b[39m\u001b[38;5;124mF\u001b[39m\u001b[38;5;124m'\u001b[39m:\n\u001b[0;32m      3\u001b[0m     \u001b[38;5;28mprint\u001b[39m(\u001b[38;5;28mlist\u001b[39m(array1[\u001b[38;5;124m'\u001b[39m\u001b[38;5;124mgender\u001b[39m\u001b[38;5;124m'\u001b[39m])\u001b[38;5;241m.\u001b[39mcount(\u001b[38;5;124m'\u001b[39m\u001b[38;5;124mF\u001b[39m\u001b[38;5;124m'\u001b[39m))\n",
      "\u001b[1;31mModuleNotFoundError\u001b[0m: No module named 'array1'"
     ]
    }
   ],
   "source": [
    "from array1 import *\n",
    "if Gender in len[array1] == 'F':\n",
    "    print(list(array1['gender']).count('F'))\n",
    "elif Gender in len[array1] == 'M':\n",
    "    print(list(array1['gender']).count('F'))\n",
    "else:\n",
    "    print('Other')"
   ]
  },
  {
   "cell_type": "code",
   "execution_count": 24,
   "id": "c20d0b35",
   "metadata": {},
   "outputs": [
    {
     "data": {
      "text/plain": [
       "Gender\n",
       "F         5\n",
       "M         5\n",
       "Name: count, dtype: int64"
      ]
     },
     "execution_count": 24,
     "metadata": {},
     "output_type": "execute_result"
    }
   ],
   "source": [
    "count_of_students = df3[[\"Gender\"]].value_counts()\n",
    "count_of_students"
   ]
  },
  {
   "cell_type": "markdown",
   "id": "a9182eaf",
   "metadata": {},
   "source": [
    "# Q43-"
   ]
  },
  {
   "cell_type": "code",
   "execution_count": null,
   "id": "a2ef6ecf",
   "metadata": {},
   "outputs": [],
   "source": [
    "#Q.43 Generate Unique Student ID  using Lamda Function.\n",
    "df = pd.read_excel(\"Exam Stress Final.xlsx\", sheet_name = 'EDA')\n",
    "\n",
    "Student_ID = int(input(\"Enter your student_id no: \"))\n",
    "\n",
    "Unique_Student_ID = df['Student_id'].apply(lambda x: df['Student_id'].nunique())\n",
    "\n",
    "if (Student_ID == Unique_Student_ID):\n",
    "    print(Student_ID + \"is a Unique Student Id\")\n",
    "else:\n",
    "    print(Student_ID + \"is not a Unique Student Id\")\n"
   ]
  },
  {
   "cell_type": "code",
   "execution_count": null,
   "id": "125bb1f5",
   "metadata": {},
   "outputs": [],
   "source": []
  },
  {
   "cell_type": "code",
   "execution_count": 11,
   "id": "48aa0b76",
   "metadata": {},
   "outputs": [],
   "source": [
    "#Q.44 Create a Box  plot for HR and Temp\n",
    "\n",
    "df1= pd.read_excel(\"Exam Stress Final.xlsx\", sheet_name = 'HR')\n",
    "df2= pd.read_excel(\"Exam Stress Final.xlsx\", sheet_name = 'Temp')\n"
   ]
  },
  {
   "cell_type": "code",
   "execution_count": 12,
   "id": "0c995daf",
   "metadata": {},
   "outputs": [
    {
     "data": {
      "image/png": "[encoded data removed]",
      "text/plain": [
       "<Figure size 1200x700 with 1 Axes>"
      ]
     },
     "metadata": {},
     "output_type": "display_data"
    }
   ],
   "source": [
    "plt.style.use('default')\n",
    "\n",
    "plt.figure(figsize = (12,7))\n",
    "\n",
    "labels = ['HR', 'TEMP']\n",
    "\n",
    "boxes = plt.boxplot([df1.HR, df2.TEMP], labels = labels, patch_artist=True, medianprops ={'linewidth':2})\n",
    "\n",
    "#set edge color\n",
    "for box in boxes['boxes']:\n",
    "    box.set(color='#4286f4', linewidth =2)\n",
    "    \n",
    "#Change fill color   \n",
    "\n",
    "box.set(facecolor='#e0e0e0')\n",
    "\n",
    "plt.title('HR and TEMP comparision')\n",
    "    \n",
    "plt.show()"
   ]
  },
  {
   "cell_type": "code",
   "execution_count": 20,
   "id": "2d95a519",
   "metadata": {},
   "outputs": [
    {
     "data": {
      "text/html": [
       "<div>\n",
       "<style scoped>\n",
       "    .dataframe tbody tr th:only-of-type {\n",
       "        vertical-align: middle;\n",
       "    }\n",
       "\n",
       "    .dataframe tbody tr th {\n",
       "        vertical-align: top;\n",
       "    }\n",
       "\n",
       "    .dataframe thead tr th {\n",
       "        text-align: left;\n",
       "    }\n",
       "\n",
       "    .dataframe thead tr:last-of-type th {\n",
       "        text-align: right;\n",
       "    }\n",
       "</style>\n",
       "<table border=\"1\" class=\"dataframe\">\n",
       "  <thead>\n",
       "    <tr>\n",
       "      <th></th>\n",
       "      <th colspan=\"3\" halign=\"left\">EDA</th>\n",
       "      <th colspan=\"3\" halign=\"left\">Time in mins</th>\n",
       "    </tr>\n",
       "    <tr>\n",
       "      <th></th>\n",
       "      <th colspan=\"3\" halign=\"left\">mean</th>\n",
       "      <th colspan=\"3\" halign=\"left\">mean</th>\n",
       "    </tr>\n",
       "    <tr>\n",
       "      <th>Exam</th>\n",
       "      <th>final</th>\n",
       "      <th>midterm 1</th>\n",
       "      <th>midterm 2</th>\n",
       "      <th>final</th>\n",
       "      <th>midterm 1</th>\n",
       "      <th>midterm 2</th>\n",
       "    </tr>\n",
       "    <tr>\n",
       "      <th>Student_id</th>\n",
       "      <th></th>\n",
       "      <th></th>\n",
       "      <th></th>\n",
       "      <th></th>\n",
       "      <th></th>\n",
       "      <th></th>\n",
       "    </tr>\n",
       "  </thead>\n",
       "  <tbody>\n",
       "    <tr>\n",
       "      <th>S01</th>\n",
       "      <td>0.103118</td>\n",
       "      <td>0.326500</td>\n",
       "      <td>0.117016</td>\n",
       "      <td>195.0</td>\n",
       "      <td>93.5</td>\n",
       "      <td>93.0</td>\n",
       "    </tr>\n",
       "    <tr>\n",
       "      <th>S010</th>\n",
       "      <td>0.111297</td>\n",
       "      <td>0.202371</td>\n",
       "      <td>0.169449</td>\n",
       "      <td>192.5</td>\n",
       "      <td>97.5</td>\n",
       "      <td>108.5</td>\n",
       "    </tr>\n",
       "    <tr>\n",
       "      <th>S02</th>\n",
       "      <td>0.078360</td>\n",
       "      <td>0.165211</td>\n",
       "      <td>0.125896</td>\n",
       "      <td>211.5</td>\n",
       "      <td>100.0</td>\n",
       "      <td>116.0</td>\n",
       "    </tr>\n",
       "    <tr>\n",
       "      <th>S03</th>\n",
       "      <td>0.169737</td>\n",
       "      <td>0.237365</td>\n",
       "      <td>0.574535</td>\n",
       "      <td>215.5</td>\n",
       "      <td>102.0</td>\n",
       "      <td>85.5</td>\n",
       "    </tr>\n",
       "    <tr>\n",
       "      <th>S04</th>\n",
       "      <td>0.526800</td>\n",
       "      <td>0.341572</td>\n",
       "      <td>0.497309</td>\n",
       "      <td>133.0</td>\n",
       "      <td>97.5</td>\n",
       "      <td>112.0</td>\n",
       "    </tr>\n",
       "    <tr>\n",
       "      <th>S05</th>\n",
       "      <td>0.542409</td>\n",
       "      <td>0.147425</td>\n",
       "      <td>0.376175</td>\n",
       "      <td>127.5</td>\n",
       "      <td>100.5</td>\n",
       "      <td>100.5</td>\n",
       "    </tr>\n",
       "    <tr>\n",
       "      <th>S06</th>\n",
       "      <td>0.129932</td>\n",
       "      <td>0.595308</td>\n",
       "      <td>0.205763</td>\n",
       "      <td>199.5</td>\n",
       "      <td>93.0</td>\n",
       "      <td>118.5</td>\n",
       "    </tr>\n",
       "    <tr>\n",
       "      <th>S07</th>\n",
       "      <td>0.212474</td>\n",
       "      <td>0.152325</td>\n",
       "      <td>0.263722</td>\n",
       "      <td>164.0</td>\n",
       "      <td>103.5</td>\n",
       "      <td>90.5</td>\n",
       "    </tr>\n",
       "    <tr>\n",
       "      <th>S08</th>\n",
       "      <td>0.534721</td>\n",
       "      <td>0.422212</td>\n",
       "      <td>0.108777</td>\n",
       "      <td>149.5</td>\n",
       "      <td>90.0</td>\n",
       "      <td>83.5</td>\n",
       "    </tr>\n",
       "    <tr>\n",
       "      <th>S09</th>\n",
       "      <td>0.402572</td>\n",
       "      <td>0.166735</td>\n",
       "      <td>0.317053</td>\n",
       "      <td>118.5</td>\n",
       "      <td>106.0</td>\n",
       "      <td>104.0</td>\n",
       "    </tr>\n",
       "  </tbody>\n",
       "</table>\n",
       "</div>"
      ],
      "text/plain": [
       "                 EDA                     Time in mins                    \n",
       "                mean                             mean                    \n",
       "Exam           final midterm 1 midterm 2        final midterm 1 midterm 2\n",
       "Student_id                                                               \n",
       "S01         0.103118  0.326500  0.117016        195.0      93.5      93.0\n",
       "S010        0.111297  0.202371  0.169449        192.5      97.5     108.5\n",
       "S02         0.078360  0.165211  0.125896        211.5     100.0     116.0\n",
       "S03         0.169737  0.237365  0.574535        215.5     102.0      85.5\n",
       "S04         0.526800  0.341572  0.497309        133.0      97.5     112.0\n",
       "S05         0.542409  0.147425  0.376175        127.5     100.5     100.5\n",
       "S06         0.129932  0.595308  0.205763        199.5      93.0     118.5\n",
       "S07         0.212474  0.152325  0.263722        164.0     103.5      90.5\n",
       "S08         0.534721  0.422212  0.108777        149.5      90.0      83.5\n",
       "S09         0.402572  0.166735  0.317053        118.5     106.0     104.0"
      ]
     },
     "execution_count": 20,
     "metadata": {},
     "output_type": "execute_result"
    }
   ],
   "source": [
    "# Q.45 Find the student's Max mean EDA who are attending Final \n",
    "df = pd.read_excel(\"Exam Stress Final.xlsx\", sheet_name = 'EDA')\n",
    "table = pd.pivot_table(df,  index=['Student_id'], columns=['Exam'], values=['EDA','Time in mins'],\n",
    "           aggfunc={'EDA':[np.mean], 'Time in mins':[np.mean]},fill_value=0)\n",
    "table"
   ]
  },
  {
   "cell_type": "code",
   "execution_count": 15,
   "id": "b5399842",
   "metadata": {},
   "outputs": [
    {
     "data": {
      "text/html": [
       "<div>\n",
       "<style scoped>\n",
       "    .dataframe tbody tr th:only-of-type {\n",
       "        vertical-align: middle;\n",
       "    }\n",
       "\n",
       "    .dataframe tbody tr th {\n",
       "        vertical-align: top;\n",
       "    }\n",
       "\n",
       "    .dataframe thead th {\n",
       "        text-align: right;\n",
       "    }\n",
       "</style>\n",
       "<table border=\"1\" class=\"dataframe\">\n",
       "  <thead>\n",
       "    <tr style=\"text-align: right;\">\n",
       "      <th></th>\n",
       "      <th>Student_id</th>\n",
       "      <th>DOB</th>\n",
       "      <th>First Name</th>\n",
       "      <th>Last Name</th>\n",
       "      <th>Gender</th>\n",
       "      <th>Race</th>\n",
       "      <th>Midterm 1</th>\n",
       "      <th>Midterm 2</th>\n",
       "      <th>final</th>\n",
       "    </tr>\n",
       "  </thead>\n",
       "  <tbody>\n",
       "    <tr>\n",
       "      <th>0</th>\n",
       "      <td>S01</td>\n",
       "      <td>2009-01-01</td>\n",
       "      <td>Barbara</td>\n",
       "      <td>Walters</td>\n",
       "      <td>F</td>\n",
       "      <td>White</td>\n",
       "      <td>78</td>\n",
       "      <td>82</td>\n",
       "      <td>182</td>\n",
       "    </tr>\n",
       "    <tr>\n",
       "      <th>1</th>\n",
       "      <td>S02</td>\n",
       "      <td>2009-02-02</td>\n",
       "      <td>Nora</td>\n",
       "      <td>Jones</td>\n",
       "      <td>F</td>\n",
       "      <td>White</td>\n",
       "      <td>82</td>\n",
       "      <td>85</td>\n",
       "      <td>180</td>\n",
       "    </tr>\n",
       "    <tr>\n",
       "      <th>2</th>\n",
       "      <td>S03</td>\n",
       "      <td>2009-07-12</td>\n",
       "      <td>Gabriel</td>\n",
       "      <td>Willows</td>\n",
       "      <td>F</td>\n",
       "      <td>Asian</td>\n",
       "      <td>77</td>\n",
       "      <td>90</td>\n",
       "      <td>188</td>\n",
       "    </tr>\n",
       "    <tr>\n",
       "      <th>7</th>\n",
       "      <td>S08</td>\n",
       "      <td>2009-03-03</td>\n",
       "      <td>John</td>\n",
       "      <td>Wills</td>\n",
       "      <td>M</td>\n",
       "      <td>White</td>\n",
       "      <td>92</td>\n",
       "      <td>88</td>\n",
       "      <td>184</td>\n",
       "    </tr>\n",
       "  </tbody>\n",
       "</table>\n",
       "</div>"
      ],
      "text/plain": [
       "  Student_id        DOB First Name Last Name Gender   Race  Midterm 1  \\\n",
       "0        S01 2009-01-01    Barbara   Walters      F  White         78   \n",
       "1        S02 2009-02-02       Nora     Jones      F  White         82   \n",
       "2        S03 2009-07-12    Gabriel   Willows      F  Asian         77   \n",
       "7        S08 2009-03-03       John     Wills      M  White         92   \n",
       "\n",
       "   Midterm 2  final  \n",
       "0         82    182  \n",
       "1         85    180  \n",
       "2         90    188  \n",
       "7         88    184  "
      ]
     },
     "execution_count": 15,
     "metadata": {},
     "output_type": "execute_result"
    }
   ],
   "source": [
    "#Q.46 Find the Grade of a Student whose Name ends with 'S'\n",
    "\n",
    "df1= pd.read_excel(\"Exam Stress Final.xlsx\", sheet_name = 'Demography')\n",
    "df2= pd.read_excel(\"Exam Stress Final.xlsx\", sheet_name = 'Grades')\n",
    "\n",
    "Values1 = df1[['Student_id','DOB','First Name','Last Name', 'Gender', 'Race']]\n",
    "Values2 = df2[['Student_id', 'Midterm 1','Midterm 2', 'final']]\n",
    "\n",
    "df_Gr_Demo_combined = pd.merge(df1, df2, on='Student_id', how='outer')\n",
    "\n",
    "#df.to_excel(\"Grades & Demography_Combined.xlsx\")\n",
    "\n",
    "df_s= df_Gr_Demo_combined[df_Gr_Demo_combined['Last Name'].astype(str).str.endswith('s', na=False)]\n",
    "\n",
    "df_s"
   ]
  },
  {
   "cell_type": "code",
   "execution_count": 16,
   "id": "0aeecac4",
   "metadata": {},
   "outputs": [
    {
     "data": {
      "image/png": "[encoded data removed]",
      "text/plain": [
       "<Figure size 640x480 with 1 Axes>"
      ]
     },
     "metadata": {},
     "output_type": "display_data"
    }
   ],
   "source": [
    "#Q.47 Plot Temp analysis of all students during 1 hr of the exam (x axis time and y axis Temp)\n",
    "\n",
    "df2 = pd.read_excel(\"Exam Stress Final.xlsx\", sheet_name = 'Temp')\n",
    "\n",
    "df2.plot.line(x='Time in mins', y= 'TEMP')\n",
    "\n",
    "plt.show()"
   ]
  },
  {
   "cell_type": "code",
   "execution_count": 17,
   "id": "a3bbc8b5",
   "metadata": {},
   "outputs": [
    {
     "data": {
      "text/plain": [
       "<Axes: xlabel='Time in mins', ylabel='TEMP'>"
      ]
     },
     "execution_count": 17,
     "metadata": {},
     "output_type": "execute_result"
    },
    {
     "data": {
      "image/png": "[encoded data removed]",
      "text/plain": [
       "<Figure size 800x500 with 1 Axes>"
      ]
     },
     "metadata": {},
     "output_type": "display_data"
    }
   ],
   "source": [
    "plt.figure(figsize=(8,5))\n",
    "sns.stripplot(x='Time in mins',y='TEMP',data=df2,jitter=True,dodge=True)"
   ]
  },
  {
   "cell_type": "code",
   "execution_count": 21,
   "id": "9fd92b9e",
   "metadata": {},
   "outputs": [
    {
     "data": {
      "text/html": [
       "<div>\n",
       "<style scoped>\n",
       "    .dataframe tbody tr th:only-of-type {\n",
       "        vertical-align: middle;\n",
       "    }\n",
       "\n",
       "    .dataframe tbody tr th {\n",
       "        vertical-align: top;\n",
       "    }\n",
       "\n",
       "    .dataframe thead th {\n",
       "        text-align: right;\n",
       "    }\n",
       "</style>\n",
       "<table border=\"1\" class=\"dataframe\">\n",
       "  <thead>\n",
       "    <tr style=\"text-align: right;\">\n",
       "      <th></th>\n",
       "      <th>Unnamed: 0.1</th>\n",
       "      <th>Unnamed: 0</th>\n",
       "      <th>Student_id</th>\n",
       "      <th>Midterm 1</th>\n",
       "      <th>Midterm 2</th>\n",
       "      <th>final</th>\n",
       "      <th>DOB</th>\n",
       "      <th>First Name</th>\n",
       "      <th>Last Name</th>\n",
       "      <th>Gender</th>\n",
       "      <th>Race</th>\n",
       "      <th>HR</th>\n",
       "      <th>Time in mins</th>\n",
       "      <th>Exam</th>\n",
       "    </tr>\n",
       "  </thead>\n",
       "  <tbody>\n",
       "    <tr>\n",
       "      <th>2720</th>\n",
       "      <td>2720</td>\n",
       "      <td>3</td>\n",
       "      <td>S04</td>\n",
       "      <td>75</td>\n",
       "      <td>77</td>\n",
       "      <td>149</td>\n",
       "      <td>2009-09-09</td>\n",
       "      <td>John</td>\n",
       "      <td>Doe</td>\n",
       "      <td>M</td>\n",
       "      <td>Asian</td>\n",
       "      <td>199.278</td>\n",
       "      <td>41</td>\n",
       "      <td>Midterm 1</td>\n",
       "    </tr>\n",
       "  </tbody>\n",
       "</table>\n",
       "</div>"
      ],
      "text/plain": [
       "      Unnamed: 0.1  Unnamed: 0 Student_id  Midterm 1  Midterm 2  final  \\\n",
       "2720          2720           3        S04         75         77    149   \n",
       "\n",
       "            DOB First Name Last Name Gender   Race       HR  Time in mins  \\\n",
       "2720 2009-09-09       John       Doe      M  Asian  199.278            41   \n",
       "\n",
       "           Exam  \n",
       "2720  Midterm 1  "
      ]
     },
     "execution_count": 21,
     "metadata": {},
     "output_type": "execute_result"
    }
   ],
   "source": [
    "#Q48 Find the Full Name of the student who has Max HR\n",
    "\n",
    "df1= pd.read_excel(\"De_Gr_HR_Combined.xlsx\")\n",
    "\n",
    "T1 = df1[df1['HR']==df1['HR'].max()]\n",
    "T1\n"
   ]
  },
  {
   "cell_type": "code",
   "execution_count": 12,
   "id": "284e8bd7",
   "metadata": {},
   "outputs": [
    {
     "name": "stdout",
     "output_type": "stream",
     "text": [
      "       Column\n",
      "0      Python\n",
      "1  Hackthaon.\n",
      "2    December\n",
      "3       2023.\n",
      "4       Numpy\n",
      "5      Ninja.\n"
     ]
    }
   ],
   "source": [
    "#49.[    \"Python Hackthaon.\",\n",
    "#    \"December 2023.\",\n",
    "#   \"Numpy Ninja.\"  ]\n",
    "#tokenise the Sentences  and place it in single column\n",
    "\n",
    "sentences = [\n",
    "    \"Python Hackthaon.\",\n",
    "    \"December 2023.\",\n",
    "    \"Numpy Ninja.\"\n",
    "]\n",
    "String = []\n",
    "for i in sentences:\n",
    "    String.extend(i.split())\n",
    "df = pd.DataFrame(data={'Column':String})\n",
    "print(df)"
   ]
  },
  {
   "cell_type": "code",
   "execution_count": 11,
   "id": "8edb0293",
   "metadata": {},
   "outputs": [
    {
     "name": "stdout",
     "output_type": "stream",
     "text": [
      "Number of Students who are in Race Group: 4\n"
     ]
    }
   ],
   "source": [
    "#50.Count the Students who are in the Race Group 'White'\n",
    "\n",
    "df=pd.read_excel(\"Exam Stress Final.xlsx\",\"Demography\")\n",
    "white = df[df['Race'] == 'White']\n",
    "x = white['Race'].count()\n",
    "print(\"Number of Students who are in Race Group:\", x)"
   ]
  },
  {
   "cell_type": "code",
   "execution_count": 3,
   "id": "50c63776",
   "metadata": {},
   "outputs": [
    {
     "name": "stdout",
     "output_type": "stream",
     "text": [
      "Youngest Student Information with Average heart rate\n",
      "Student_id        : S07\n",
      "Name              : Roger Frederick\n",
      "Gender            : M\n",
      "Race              : African\n",
      "Average Heart Rate: 103.84\n"
     ]
    }
   ],
   "source": [
    "#51.Display the Youngest Student demographic details. with Avg Heart Rate.\n",
    "\n",
    "df1=pd.read_excel(\"Exam Stress Final.xlsx\",\"Demography\")\n",
    "df2=pd.read_excel(\"Exam Stress Final.xlsx\",\"HR\")\n",
    "df1[\"Age\"] = (pd.to_datetime(\"today\") - df1[\"DOB\"]).dt.days // 365\n",
    "youngest_studentid = df1[\"Age\"].idxmin()\n",
    "youngest_student_info= df1.loc[youngest_studentid]\n",
    "filtered_hr_data = df2[df2[\"Student_id\"] == youngest_student_info[\"Student_id\"]]\n",
    "specific_student_hr_mean = filtered_hr_data[\"HR\"].mean()\n",
    "print(\"Youngest Student Information with Average heart rate\")\n",
    "print(f\"Student_id        : {youngest_student_info['Student_id']}\")\n",
    "print(f\"Name              : {youngest_student_info['First Name']} {youngest_student_info['Last Name']}\")\n",
    "print(f\"Gender            : {youngest_student_info['Gender']}\")\n",
    "print(f\"Race              : {youngest_student_info['Race']}\")\n",
    "print(f\"Average Heart Rate: {specific_student_hr_mean:.2f}\")"
   ]
  },
  {
   "cell_type": "code",
   "execution_count": 9,
   "id": "13ae8a71",
   "metadata": {},
   "outputs": [
    {
     "data": {
      "image/png": "[encoded data removed]",
      "text/plain": [
       "<Figure size 640x480 with 1 Axes>"
      ]
     },
     "metadata": {},
     "output_type": "display_data"
    }
   ],
   "source": [
    "#52.Plot the Donut chart Student distrubution by Gender.\n",
    "\n",
    "df=pd.read_excel(\"Exam Stress Final.xlsx\",\"Demography\")\n",
    "gender_counts = df['Gender'].value_counts()\n",
    "\n",
    "# Set pie chart slices and labels\n",
    "pie_slices = gender_counts.values\n",
    "pie_labels = gender_counts.index\n",
    "colors = ['#FF0000', '#0000FF']\n",
    "explode = (0.05,0.05)\n",
    "\n",
    "# Create pie chart\n",
    "plt.pie(pie_slices, labels=pie_labels,colors=colors, autopct='%1.1f%%', pctdistance=0.85, explode= explode)\n",
    "\n",
    "# Add title\n",
    "plt.title('Student Distribution by Gender')\n",
    "\n",
    "# draw circle\n",
    "centre_circle = plt.Circle((0, 0), 0.70, fc='white')\n",
    "fig = plt.gcf()\n",
    " \n",
    "# Adding Circle in Pie chart\n",
    "fig.gca().add_artist(centre_circle)\n",
    "\n",
    "# Add Legends\n",
    "#plt.legend(labels, loc=\"upper right\")\n",
    " \n",
    "# Display chart\n",
    "plt.show()"
   ]
  },
  {
   "cell_type": "code",
   "execution_count": 8,
   "id": "202c7472",
   "metadata": {},
   "outputs": [
    {
     "name": "stdout",
     "output_type": "stream",
     "text": [
      "Student Name | Age\n",
      "Barbara Walters | 14\n",
      "Nora Jones | 14\n",
      "Gabriel Willows | 14\n",
      "John Doe | 14\n",
      "Jane Doe | 14\n",
      "Pat Murray | 15\n",
      "Roger Frederick | 13\n",
      "John Wills | 14\n",
      "Paul Cartney | 14\n",
      "Janice Smith | 14\n"
     ]
    }
   ],
   "source": [
    "#53.Calculate the 'AGE' of the Student and Display with Student Name \n",
    "\n",
    "from datetime import date\n",
    "df=pd.read_excel(\"Exam Stress Final.xlsx\",\"Demography\")\n",
    "\n",
    "df[\"Age\"] = (pd.to_datetime('today') - df[\"DOB\"]).dt.days // 365\n",
    "\n",
    "print(\"Student Name | Age\")\n",
    "\n",
    "for i, row in df.iterrows():\n",
    "    print(f\"{row['First Name']} {row['Last Name']} | {row['Age']}\")"
   ]
  },
  {
   "cell_type": "code",
   "execution_count": 7,
   "id": "52a6773e",
   "metadata": {},
   "outputs": [
    {
     "name": "stdout",
     "output_type": "stream",
     "text": [
      "[[ 1  2  3  4  5]\n",
      " [ 6  7  8  9 10]\n",
      " [11 12 13 14 15]\n",
      " [16 17 18 19 20]\n",
      " [21 22 23 24 25]\n",
      " [26 27 28 29 30]]\n",
      "Array slicing: \n",
      " [[ 4  5]\n",
      " [24 25]\n",
      " [29 30]]\n"
     ]
    }
   ],
   "source": [
    "#54. np.arange(1,31).reshape(6,5),find array slicing to get the elements 4,5,24,25,29,30.\n",
    "\n",
    "arr=np.arange(1,31).reshape(6,5)\n",
    "print(arr)\n",
    "result_arr=np.concatenate((arr[0:1:,3:], arr[-2:6:,3:]),axis=0)\n",
    "print('Array slicing: \\n', result_arr)"
   ]
  },
  {
   "cell_type": "code",
   "execution_count": 4,
   "id": "1773bdfe",
   "metadata": {},
   "outputs": [
    {
     "name": "stdout",
     "output_type": "stream",
     "text": [
      "Mean Heart Rate who Scored Least Grade in Final: 103.84\n"
     ]
    }
   ],
   "source": [
    "#55.Display the mean Heart Rate who scored Least Grade in Final\n",
    "\n",
    "df1=pd.read_excel(\"Exam Stress Final.xlsx\",\"Grades\")\n",
    "df2=pd.read_excel(\"Exam Stress Final.xlsx\",\"HR\")\n",
    "least_score = df1[\"final\"].idxmin()\n",
    "least_grade_details= df1.loc[least_score]\n",
    "filtered_hr_data = df2[df2[\"Student_id\"] == youngest_student_info[\"Student_id\"]]\n",
    "specific_student_hr_mean = filtered_hr_data[\"HR\"].mean()\n",
    "print(f\"Mean Heart Rate who Scored Least Grade in Final: {specific_student_hr_mean:.2f}\")   "
   ]
  },
  {
   "cell_type": "code",
   "execution_count": 5,
   "id": "20b1fa14",
   "metadata": {},
   "outputs": [
    {
     "name": "stdout",
     "output_type": "stream",
     "text": [
      "Enter the last name:Walters\n",
      "MS.Barbara Walters\n"
     ]
    }
   ],
   "source": [
    "#56.Input the Lastname of the Student and Based on the gender concatinate 'MR' or 'MS' to the Full Name\n",
    "df=pd.read_excel(\"Exam Stress Final.xlsx\",\"Demography\")\n",
    "InputLastname =input('Enter the last name:').lower()\n",
    "df[\"Full Name\"]=df.apply(lambda row: 'MR' if row['Gender'] == 'M' else 'MS', axis=1)+'.'+ df['First Name'] + ' ' + df['Last Name']\n",
    "df[\"Last Name\"] = df[\"Last Name\"].str.lower()\n",
    "Printname = df[df[\"Last Name\"] == InputLastname]\n",
    "#print(Printname[\"Full Name\"].values[0])\n",
    "if len(Printname) > 0:\n",
    "    for name in Printname[\"Full Name\"]:\n",
    "        print(name)\n",
    "else:\n",
    "    print(f\"The given last name is not available: {InputLastname}\")"
   ]
  },
  {
   "cell_type": "code",
   "execution_count": 6,
   "id": "63bc3c31",
   "metadata": {},
   "outputs": [
    {
     "data": {
      "text/plain": [
       "Text(0.5694444444444446, 0.5, 'Count of the Students')"
      ]
     },
     "execution_count": 6,
     "metadata": {},
     "output_type": "execute_result"
    },
    {
     "data": {
      "image/png": "[encoded data removed]",
      "text/plain": [
       "<Figure size 500x500 with 1 Axes>"
      ]
     },
     "metadata": {},
     "output_type": "display_data"
    }
   ],
   "source": [
    "#57.Give Distrubution chart of MAX EDA of the midterm1.\n",
    "\n",
    "df=pd.read_excel(\"Exam Stress Final.xlsx\",\"EDA\")\n",
    "midterm1 = df[df['Exam'] == 'midterm 1']\n",
    "max_eda_per_student = (df.groupby('Student_id')['EDA']).max()\n",
    "sns.displot(max_eda_per_student, kde=True,bins=30)\n",
    "plt.title(\"Distribution of Maximum EDA Per Student in Midterm 1\")\n",
    "plt.xlabel(\"Maximum EDA Per Student\")\n",
    "plt.ylabel(\"Count of the Students\")"
   ]
  },
  {
   "cell_type": "code",
   "execution_count": 5,
   "id": "4792b552",
   "metadata": {},
   "outputs": [
    {
     "data": {
      "text/plain": [
       "Text(0.5, 1.0, 'Students count based on Genderwise')"
      ]
     },
     "execution_count": 5,
     "metadata": {},
     "output_type": "execute_result"
    },
    {
     "data": {
      "image/png": "[encoded data removed]",
      "text/plain": [
       "<Figure size 640x480 with 1 Axes>"
      ]
     },
     "metadata": {},
     "output_type": "display_data"
    }
   ],
   "source": [
    "#58.Count the students based on Genderwise using count plot.\n",
    "\n",
    "df=pd.read_excel(\"Exam Stress Final.xlsx\",\"Demography\")\n",
    "sns.countplot(data=df,x='Gender')\n",
    "plt.title(\"Students count based on Genderwise\")"
   ]
  },
  {
   "cell_type": "code",
   "execution_count": 7,
   "id": "db58d792",
   "metadata": {},
   "outputs": [
    {
     "name": "stdout",
     "output_type": "stream",
     "text": [
      "Full Name of Student Who are born in year 2010: ['Roger Frederick']\n"
     ]
    }
   ],
   "source": [
    "#59.Display full name of Student who are born in year '2010'\n",
    "\n",
    "df=pd.read_excel(\"Exam Stress Final.xlsx\",\"Demography\")\n",
    "ListofStudentsin2010 = []\n",
    "for index, row in df.iterrows():\n",
    "    if pd.to_datetime(row[\"DOB\"]).year == 2010:\n",
    "        full_name = f\"{row['First Name']} {row['Last Name']}\"\n",
    "        ListofStudentsin2010.append(full_name)\n",
    "print(\"Full Name of Student Who are born in year 2010:\", ListofStudentsin2010)"
   ]
  },
  {
   "cell_type": "code",
   "execution_count": 3,
   "id": "2c310120",
   "metadata": {},
   "outputs": [
    {
     "name": "stdout",
     "output_type": "stream",
     "text": [
      "Array slicing: \n",
      "\n",
      "2\n",
      "8\n",
      "14\n",
      "20\n"
     ]
    }
   ],
   "source": [
    "#60.   [ 1,  2,  3,  4,  5],\n",
    "#      [ 6,  7,  8,  9, 10],\n",
    "#      [11, 12, 13, 14, 15],\n",
    "#      [16, 17, 18, 19, 20],\n",
    "#      [21, 22, 23, 24, 25],\n",
    "#      [26, 27, 28, 29, 30]  In the Array,find array slicing for elements 2,8,14,20.\n",
    "\n",
    "arr=np.arange(1,31).reshape(6,5)\n",
    "result = arr[[0,1, 2, 3], [1, 2, 3, 4]]\n",
    "print('Array slicing: \\n')\n",
    "for i in result.flat:\n",
    "    print(i)"
   ]
  },
  {
   "cell_type": "code",
   "execution_count": null,
   "id": "05c62203",
   "metadata": {},
   "outputs": [],
   "source": [
    "#61.Create a dataframe with Max EDA and Mean HR as the indices and the count of number of records per student as the value."
   ]
  },
  {
   "cell_type": "code",
   "execution_count": null,
   "id": "be35b6b4",
   "metadata": {},
   "outputs": [],
   "source": [
    "#62.Print the Last name like below ouptput eg:.Last Name and count of Last Name   Occurance  :\n",
    "#Counter({'Doe': 2, 'Walters': 1, 'Jones': 1, 'Willows': 1, 'Murray': 1, 'Frederick': 1, 'Wills': 1, 'Cartney': 1, 'Smith': 1})\n",
    "\n",
    "df = pd.read_excel(\"Exam Stress Final.xlsx\",\"Demography\")\n",
    "Counter = df['Last Name'].value_counts()\n",
    "print(Counter)"
   ]
  },
  {
   "cell_type": "code",
   "execution_count": null,
   "id": "18b273dc",
   "metadata": {},
   "outputs": [],
   "source": [
    "#63.Retrieve the row with minimum EDA using sorting technique.\n",
    "\n",
    "df = pd.read_excel(\"Exam Stress Final.xlsx\",\"EDA\")\n",
    "sorted_df = df.sort_values(by='EDA')\n",
    "min_eda_row = sorted_df.iloc[0]\n",
    "print(min_eda_row)"
   ]
  },
  {
   "cell_type": "code",
   "execution_count": null,
   "id": "ad7883d3",
   "metadata": {},
   "outputs": [],
   "source": [
    "#64.get the last letter of last name of students using RegEX\n",
    "\n",
    "import re\n",
    "def get_last_letter_of_last_name(name):\n",
    "    pattern = re.compile(r\"\\S$\")\n",
    "    match = re.search(pattern, name)\n",
    "    if match:\n",
    "          return match.group(0)\n",
    "    else:\n",
    "          return None\n",
    "df=pd.read_excel(\"Exam Stress Final.xlsx\", sheet_name = 'Demography')\n",
    "df1=df[\"Last Name\"]\n",
    "last_letters = []\n",
    "for Lastname in df[\"Last Name\"]:\n",
    "    last_letter = get_last_letter_of_last_name(Lastname)\n",
    "    if last_letter:\n",
    "        last_letters.append(last_letter)\n",
    "print(f\"Last letters of last names: {last_letters}\")"
   ]
  },
  {
   "cell_type": "code",
   "execution_count": 3,
   "id": "c125b2f4",
   "metadata": {},
   "outputs": [
    {
     "name": "stdout",
     "output_type": "stream",
     "text": [
      "[[1 2 3]\n",
      " [7 8 9]\n",
      " [4 5 6]]\n",
      "First Row: [1 2 3]\n",
      "Second Row: [7 8 9]\n",
      "Third Row: [4 5 6]\n"
     ]
    }
   ],
   "source": [
    "#Q.65 Generate a 3x3  Array using Random values between 1to 9  and Fix the values and position  in Next Run.\n",
    "\n",
    "arr = np.array([[1,2,3],[7,8,9],[4,5,6]])\n",
    "print(arr)\n",
    "my_iter = iter (arr)\n",
    "print(\"First Row:\",next(my_iter))\n",
    "print(\"Second Row:\",next(my_iter))\n",
    "print(\"Third Row:\",next(my_iter))"
   ]
  },
  {
   "cell_type": "code",
   "execution_count": 4,
   "id": "117e5759",
   "metadata": {},
   "outputs": [
    {
     "name": "stdout",
     "output_type": "stream",
     "text": [
      "Enter a SentenceI Love to Learn Python\n",
      "Python Learn to Love I\n"
     ]
    }
   ],
   "source": [
    "#Q.66 find the way to reverse string for given input \n",
    "\n",
    "str1 = str(input(\"Enter a Sentence\"))\n",
    "s = str1.split()[::-1]\n",
    "r= []\n",
    "for i in s:\n",
    "    r.append(i)\n",
    "print(\" \".join(r))"
   ]
  },
  {
   "cell_type": "code",
   "execution_count": 4,
   "id": "5bb5ab2a",
   "metadata": {},
   "outputs": [
    {
     "name": "stdout",
     "output_type": "stream",
     "text": [
      "['Python Hack', '']\n"
     ]
    }
   ],
   "source": [
    "#Q.67 from'Python Hackthon Dec 2023' give 'Python Hack' using RegEX\n",
    "\n",
    "import re\n",
    "str = \"Python Hackthon Dec 2023\"\n",
    "print(re.split(\"thon Dec 2023\", str, flags = re.IGNORECASE))"
   ]
  },
  {
   "cell_type": "code",
   "execution_count": null,
   "id": "df7c1b1d",
   "metadata": {},
   "outputs": [],
   "source": []
  },
  {
   "cell_type": "code",
   "execution_count": 7,
   "id": "032a06fe",
   "metadata": {},
   "outputs": [
    {
     "name": "stdout",
     "output_type": "stream",
     "text": [
      "Enter a sentence I Love to Learn Python\n",
      "22\n"
     ]
    }
   ],
   "source": [
    "#Q.69 Input any string from user, Convert that into a tuple and then find the lenghth of that tuple\n",
    "\n",
    "str2 = input(\"Enter a sentence \")\n",
    "t = tuple(str2)\n",
    "#print(t)\n",
    "length = len (t)\n",
    "print(length)"
   ]
  },
  {
   "cell_type": "code",
   "execution_count": null,
   "id": "693fed78",
   "metadata": {},
   "outputs": [],
   "source": []
  },
  {
   "cell_type": "code",
   "execution_count": 13,
   "id": "fe303026",
   "metadata": {},
   "outputs": [
    {
     "data": {
      "image/png": "[encoded data removed]",
      "text/plain": [
       "<Figure size 640x480 with 1 Axes>"
      ]
     },
     "metadata": {},
     "output_type": "display_data"
    }
   ],
   "source": [
    "#Q.71 Creat the visualisation to count the student based on race\n",
    "\n",
    "df1 = pd.read_excel(\"Exam Stress Final.xlsx\",\"Demography\")\n",
    "df1[[\"Student_id\",\"Race\"]]\n",
    "count_of_students = df1['Race'].value_counts()\n",
    "#print(count_of_students)\n",
    "plt.plot(count_of_students, ls = '--', color = 'b', linewidth = '0.3', marker = 'o', ms = 10, mec = 'g', mfc = 'hotpink')\n",
    "plt.show()"
   ]
  },
  {
   "cell_type": "code",
   "execution_count": null,
   "id": "ed27aeab",
   "metadata": {},
   "outputs": [],
   "source": []
  },
  {
   "cell_type": "code",
   "execution_count": null,
   "id": "d02e6494",
   "metadata": {},
   "outputs": [],
   "source": []
  },
  {
   "cell_type": "code",
   "execution_count": 14,
   "id": "9b7fd18a",
   "metadata": {},
   "outputs": [
    {
     "data": {
      "image/png": "[encoded data removed]",
      "text/plain": [
       "<Figure size 640x480 with 1 Axes>"
      ]
     },
     "metadata": {},
     "output_type": "display_data"
    }
   ],
   "source": [
    "#Q.74 Create a Pie chart for  Grades and explode the wedge with Highest Grade in Final and Label with the Student ID\n",
    "\n",
    "Grades_df = pd.read_excel(\"Exam Stress Final.xlsx\",\"Grades\")\n",
    "Grades_df\n",
    "Final_Grades = Grades_df[\"final\"]\n",
    "Final_Grades\n",
    "Student = Grades_df[\"Student_id\"]\n",
    "#print(Student)\n",
    "my_labels = Student\n",
    "my_explode = [0,0,0.2,0,0,0,0,0,0,0]\n",
    "plt.pie(Final_Grades, labels=my_labels, explode = my_explode, shadow = 'True')\n",
    "#plt.legend(title = \"Analysis of Students with Grades in Final Exam\")\n",
    "plt.show()"
   ]
  },
  {
   "cell_type": "code",
   "execution_count": null,
   "id": "b31dd287",
   "metadata": {},
   "outputs": [],
   "source": []
  },
  {
   "cell_type": "code",
   "execution_count": null,
   "id": "f0d8f9b2",
   "metadata": {},
   "outputs": [],
   "source": []
  },
  {
   "cell_type": "code",
   "execution_count": 7,
   "id": "cc1100fb",
   "metadata": {},
   "outputs": [
    {
     "data": {
      "text/plain": [
       "<Axes: xlabel='IBI', ylabel='Density'>"
      ]
     },
     "execution_count": 7,
     "metadata": {},
     "output_type": "execute_result"
    },
    {
     "data": {
      "image/png": "[encoded data removed]",
      "text/plain": [
       "<Figure size 640x480 with 1 Axes>"
      ]
     },
     "metadata": {},
     "output_type": "display_data"
    }
   ],
   "source": [
    "#Q.77 Plot the Density Chart for IBI \n",
    "\n",
    "df = pd.read_excel(\"Exam Stress Final.xlsx\", \"IBI\")\n",
    "sns.kdeplot(df[\"IBI\"], fill = True, color = 'HotPink')\n",
    "\n"
   ]
  },
  {
   "cell_type": "code",
   "execution_count": null,
   "id": "56fe6b36",
   "metadata": {},
   "outputs": [],
   "source": []
  }
 ],
 "metadata": {
  "kernelspec": {
   "display_name": "Python 3 (ipykernel)",
   "language": "python",
   "name": "python3"
  },
  "language_info": {
   "codemirror_mode": {
    "name": "ipython",
    "version": 3
   },
   "file_extension": ".py",
   "mimetype": "text/x-python",
   "name": "python",
   "nbconvert_exporter": "python",
   "pygments_lexer": "ipython3",
   "version": "3.10.9"
  }
 },
 "nbformat": 4,
 "nbformat_minor": 5
}
